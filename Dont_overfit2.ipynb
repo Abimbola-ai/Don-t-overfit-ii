{
  "nbformat": 4,
  "nbformat_minor": 2,
  "metadata": {
    "colab": {
      "name": "Dont_overfit2.ipynb",
      "provenance": []
    },
    "kernelspec": {
      "name": "python3",
      "display_name": "Python 3.7.4 64-bit ('base': conda)"
    },
    "language_info": {
      "name": "python",
      "version": "3.7.4",
      "mimetype": "text/x-python",
      "codemirror_mode": {
        "name": "ipython",
        "version": 3
      },
      "pygments_lexer": "ipython3",
      "nbconvert_exporter": "python",
      "file_extension": ".py"
    },
    "widgets": {
      "application/vnd.jupyter.widget-state+json": {
        "694452d0c50549c68525d3a1d49dfbd2": {
          "model_module": "@jupyter-widgets/controls",
          "model_name": "HBoxModel",
          "model_module_version": "1.5.0",
          "state": {
            "_view_name": "HBoxView",
            "_dom_classes": [],
            "_model_name": "HBoxModel",
            "_view_module": "@jupyter-widgets/controls",
            "_model_module_version": "1.5.0",
            "_view_count": null,
            "_view_module_version": "1.5.0",
            "box_style": "",
            "layout": "IPY_MODEL_2cb61830bfeb4a109af3f4d94373af86",
            "_model_module": "@jupyter-widgets/controls",
            "children": [
              "IPY_MODEL_4f48f80d8aa743679b6bb70578a0eb4f",
              "IPY_MODEL_6ca4fb861be043e091a1c92cc4fa6316",
              "IPY_MODEL_cee4757c9ba040768db1a22953be2837"
            ]
          }
        },
        "2cb61830bfeb4a109af3f4d94373af86": {
          "model_module": "@jupyter-widgets/base",
          "model_name": "LayoutModel",
          "model_module_version": "1.2.0",
          "state": {
            "_view_name": "LayoutView",
            "grid_template_rows": null,
            "right": null,
            "justify_content": null,
            "_view_module": "@jupyter-widgets/base",
            "overflow": null,
            "_model_module_version": "1.2.0",
            "_view_count": null,
            "flex_flow": null,
            "width": null,
            "min_width": null,
            "border": null,
            "align_items": null,
            "bottom": null,
            "_model_module": "@jupyter-widgets/base",
            "top": null,
            "grid_column": null,
            "overflow_y": null,
            "overflow_x": null,
            "grid_auto_flow": null,
            "grid_area": null,
            "grid_template_columns": null,
            "flex": null,
            "_model_name": "LayoutModel",
            "justify_items": null,
            "grid_row": null,
            "max_height": null,
            "align_content": null,
            "visibility": null,
            "align_self": null,
            "height": null,
            "min_height": null,
            "padding": null,
            "grid_auto_rows": null,
            "grid_gap": null,
            "max_width": null,
            "order": null,
            "_view_module_version": "1.2.0",
            "grid_template_areas": null,
            "object_position": null,
            "object_fit": null,
            "grid_auto_columns": null,
            "margin": null,
            "display": null,
            "left": null
          }
        },
        "4f48f80d8aa743679b6bb70578a0eb4f": {
          "model_module": "@jupyter-widgets/controls",
          "model_name": "HTMLModel",
          "model_module_version": "1.5.0",
          "state": {
            "_view_name": "HTMLView",
            "style": "IPY_MODEL_63136c170f0745ffb10f3c558947ab5a",
            "_dom_classes": [],
            "description": "",
            "_model_name": "HTMLModel",
            "placeholder": "​",
            "_view_module": "@jupyter-widgets/controls",
            "_model_module_version": "1.5.0",
            "value": "100%",
            "_view_count": null,
            "_view_module_version": "1.5.0",
            "description_tooltip": null,
            "_model_module": "@jupyter-widgets/controls",
            "layout": "IPY_MODEL_ccf80f3b92624c2ca9be9cbaba4d8498"
          }
        },
        "6ca4fb861be043e091a1c92cc4fa6316": {
          "model_module": "@jupyter-widgets/controls",
          "model_name": "FloatProgressModel",
          "model_module_version": "1.5.0",
          "state": {
            "_view_name": "ProgressView",
            "style": "IPY_MODEL_d19d6ee0328c4d5e9ea546c27ce3928f",
            "_dom_classes": [],
            "description": "",
            "_model_name": "FloatProgressModel",
            "bar_style": "success",
            "max": 300,
            "_view_module": "@jupyter-widgets/controls",
            "_model_module_version": "1.5.0",
            "value": 300,
            "_view_count": null,
            "_view_module_version": "1.5.0",
            "orientation": "horizontal",
            "min": 0,
            "description_tooltip": null,
            "_model_module": "@jupyter-widgets/controls",
            "layout": "IPY_MODEL_027d3b4d42df49d7a4aa15f46c029711"
          }
        },
        "cee4757c9ba040768db1a22953be2837": {
          "model_module": "@jupyter-widgets/controls",
          "model_name": "HTMLModel",
          "model_module_version": "1.5.0",
          "state": {
            "_view_name": "HTMLView",
            "style": "IPY_MODEL_99a6e351115a421c8679ef7edae7ae5c",
            "_dom_classes": [],
            "description": "",
            "_model_name": "HTMLModel",
            "placeholder": "​",
            "_view_module": "@jupyter-widgets/controls",
            "_model_module_version": "1.5.0",
            "value": " 300/300 [00:41&lt;00:00,  7.18it/s]",
            "_view_count": null,
            "_view_module_version": "1.5.0",
            "description_tooltip": null,
            "_model_module": "@jupyter-widgets/controls",
            "layout": "IPY_MODEL_d8b4ebbe624e4c4dba5b1949c6d6ccf4"
          }
        },
        "63136c170f0745ffb10f3c558947ab5a": {
          "model_module": "@jupyter-widgets/controls",
          "model_name": "DescriptionStyleModel",
          "model_module_version": "1.5.0",
          "state": {
            "_view_name": "StyleView",
            "_model_name": "DescriptionStyleModel",
            "description_width": "",
            "_view_module": "@jupyter-widgets/base",
            "_model_module_version": "1.5.0",
            "_view_count": null,
            "_view_module_version": "1.2.0",
            "_model_module": "@jupyter-widgets/controls"
          }
        },
        "ccf80f3b92624c2ca9be9cbaba4d8498": {
          "model_module": "@jupyter-widgets/base",
          "model_name": "LayoutModel",
          "model_module_version": "1.2.0",
          "state": {
            "_view_name": "LayoutView",
            "grid_template_rows": null,
            "right": null,
            "justify_content": null,
            "_view_module": "@jupyter-widgets/base",
            "overflow": null,
            "_model_module_version": "1.2.0",
            "_view_count": null,
            "flex_flow": null,
            "width": null,
            "min_width": null,
            "border": null,
            "align_items": null,
            "bottom": null,
            "_model_module": "@jupyter-widgets/base",
            "top": null,
            "grid_column": null,
            "overflow_y": null,
            "overflow_x": null,
            "grid_auto_flow": null,
            "grid_area": null,
            "grid_template_columns": null,
            "flex": null,
            "_model_name": "LayoutModel",
            "justify_items": null,
            "grid_row": null,
            "max_height": null,
            "align_content": null,
            "visibility": null,
            "align_self": null,
            "height": null,
            "min_height": null,
            "padding": null,
            "grid_auto_rows": null,
            "grid_gap": null,
            "max_width": null,
            "order": null,
            "_view_module_version": "1.2.0",
            "grid_template_areas": null,
            "object_position": null,
            "object_fit": null,
            "grid_auto_columns": null,
            "margin": null,
            "display": null,
            "left": null
          }
        },
        "d19d6ee0328c4d5e9ea546c27ce3928f": {
          "model_module": "@jupyter-widgets/controls",
          "model_name": "ProgressStyleModel",
          "model_module_version": "1.5.0",
          "state": {
            "_view_name": "StyleView",
            "_model_name": "ProgressStyleModel",
            "description_width": "",
            "_view_module": "@jupyter-widgets/base",
            "_model_module_version": "1.5.0",
            "_view_count": null,
            "_view_module_version": "1.2.0",
            "bar_color": null,
            "_model_module": "@jupyter-widgets/controls"
          }
        },
        "027d3b4d42df49d7a4aa15f46c029711": {
          "model_module": "@jupyter-widgets/base",
          "model_name": "LayoutModel",
          "model_module_version": "1.2.0",
          "state": {
            "_view_name": "LayoutView",
            "grid_template_rows": null,
            "right": null,
            "justify_content": null,
            "_view_module": "@jupyter-widgets/base",
            "overflow": null,
            "_model_module_version": "1.2.0",
            "_view_count": null,
            "flex_flow": null,
            "width": null,
            "min_width": null,
            "border": null,
            "align_items": null,
            "bottom": null,
            "_model_module": "@jupyter-widgets/base",
            "top": null,
            "grid_column": null,
            "overflow_y": null,
            "overflow_x": null,
            "grid_auto_flow": null,
            "grid_area": null,
            "grid_template_columns": null,
            "flex": null,
            "_model_name": "LayoutModel",
            "justify_items": null,
            "grid_row": null,
            "max_height": null,
            "align_content": null,
            "visibility": null,
            "align_self": null,
            "height": null,
            "min_height": null,
            "padding": null,
            "grid_auto_rows": null,
            "grid_gap": null,
            "max_width": null,
            "order": null,
            "_view_module_version": "1.2.0",
            "grid_template_areas": null,
            "object_position": null,
            "object_fit": null,
            "grid_auto_columns": null,
            "margin": null,
            "display": null,
            "left": null
          }
        },
        "99a6e351115a421c8679ef7edae7ae5c": {
          "model_module": "@jupyter-widgets/controls",
          "model_name": "DescriptionStyleModel",
          "model_module_version": "1.5.0",
          "state": {
            "_view_name": "StyleView",
            "_model_name": "DescriptionStyleModel",
            "description_width": "",
            "_view_module": "@jupyter-widgets/base",
            "_model_module_version": "1.5.0",
            "_view_count": null,
            "_view_module_version": "1.2.0",
            "_model_module": "@jupyter-widgets/controls"
          }
        },
        "d8b4ebbe624e4c4dba5b1949c6d6ccf4": {
          "model_module": "@jupyter-widgets/base",
          "model_name": "LayoutModel",
          "model_module_version": "1.2.0",
          "state": {
            "_view_name": "LayoutView",
            "grid_template_rows": null,
            "right": null,
            "justify_content": null,
            "_view_module": "@jupyter-widgets/base",
            "overflow": null,
            "_model_module_version": "1.2.0",
            "_view_count": null,
            "flex_flow": null,
            "width": null,
            "min_width": null,
            "border": null,
            "align_items": null,
            "bottom": null,
            "_model_module": "@jupyter-widgets/base",
            "top": null,
            "grid_column": null,
            "overflow_y": null,
            "overflow_x": null,
            "grid_auto_flow": null,
            "grid_area": null,
            "grid_template_columns": null,
            "flex": null,
            "_model_name": "LayoutModel",
            "justify_items": null,
            "grid_row": null,
            "max_height": null,
            "align_content": null,
            "visibility": null,
            "align_self": null,
            "height": null,
            "min_height": null,
            "padding": null,
            "grid_auto_rows": null,
            "grid_gap": null,
            "max_width": null,
            "order": null,
            "_view_module_version": "1.2.0",
            "grid_template_areas": null,
            "object_position": null,
            "object_fit": null,
            "grid_auto_columns": null,
            "margin": null,
            "display": null,
            "left": null
          }
        },
        "40cdd7c2210d47808e241f4b546ef073": {
          "model_module": "@jupyter-widgets/controls",
          "model_name": "HBoxModel",
          "model_module_version": "1.5.0",
          "state": {
            "_view_name": "HBoxView",
            "_dom_classes": [],
            "_model_name": "HBoxModel",
            "_view_module": "@jupyter-widgets/controls",
            "_model_module_version": "1.5.0",
            "_view_count": null,
            "_view_module_version": "1.5.0",
            "box_style": "",
            "layout": "IPY_MODEL_1e4a238751954f89bd36a99379dac851",
            "_model_module": "@jupyter-widgets/controls",
            "children": [
              "IPY_MODEL_f5f82552f20a4146a0ad8ad8cb0a5c6f",
              "IPY_MODEL_3db493cec36f4325a99c8344c666b455",
              "IPY_MODEL_f7190f6c760a4c3f9185719dd95e7bc4"
            ]
          }
        },
        "1e4a238751954f89bd36a99379dac851": {
          "model_module": "@jupyter-widgets/base",
          "model_name": "LayoutModel",
          "model_module_version": "1.2.0",
          "state": {
            "_view_name": "LayoutView",
            "grid_template_rows": null,
            "right": null,
            "justify_content": null,
            "_view_module": "@jupyter-widgets/base",
            "overflow": null,
            "_model_module_version": "1.2.0",
            "_view_count": null,
            "flex_flow": null,
            "width": null,
            "min_width": null,
            "border": null,
            "align_items": null,
            "bottom": null,
            "_model_module": "@jupyter-widgets/base",
            "top": null,
            "grid_column": null,
            "overflow_y": null,
            "overflow_x": null,
            "grid_auto_flow": null,
            "grid_area": null,
            "grid_template_columns": null,
            "flex": null,
            "_model_name": "LayoutModel",
            "justify_items": null,
            "grid_row": null,
            "max_height": null,
            "align_content": null,
            "visibility": null,
            "align_self": null,
            "height": null,
            "min_height": null,
            "padding": null,
            "grid_auto_rows": null,
            "grid_gap": null,
            "max_width": null,
            "order": null,
            "_view_module_version": "1.2.0",
            "grid_template_areas": null,
            "object_position": null,
            "object_fit": null,
            "grid_auto_columns": null,
            "margin": null,
            "display": null,
            "left": null
          }
        },
        "f5f82552f20a4146a0ad8ad8cb0a5c6f": {
          "model_module": "@jupyter-widgets/controls",
          "model_name": "HTMLModel",
          "model_module_version": "1.5.0",
          "state": {
            "_view_name": "HTMLView",
            "style": "IPY_MODEL_69809b0df45a48d7ac4e1d16a3ab47e3",
            "_dom_classes": [],
            "description": "",
            "_model_name": "HTMLModel",
            "placeholder": "​",
            "_view_module": "@jupyter-widgets/controls",
            "_model_module_version": "1.5.0",
            "value": "100%",
            "_view_count": null,
            "_view_module_version": "1.5.0",
            "description_tooltip": null,
            "_model_module": "@jupyter-widgets/controls",
            "layout": "IPY_MODEL_a3dac3d60c834231acb47699880150a7"
          }
        },
        "3db493cec36f4325a99c8344c666b455": {
          "model_module": "@jupyter-widgets/controls",
          "model_name": "FloatProgressModel",
          "model_module_version": "1.5.0",
          "state": {
            "_view_name": "ProgressView",
            "style": "IPY_MODEL_b033c90823f0465f9f2f6f65d89cb0af",
            "_dom_classes": [],
            "description": "",
            "_model_name": "FloatProgressModel",
            "bar_style": "success",
            "max": 300,
            "_view_module": "@jupyter-widgets/controls",
            "_model_module_version": "1.5.0",
            "value": 300,
            "_view_count": null,
            "_view_module_version": "1.5.0",
            "orientation": "horizontal",
            "min": 0,
            "description_tooltip": null,
            "_model_module": "@jupyter-widgets/controls",
            "layout": "IPY_MODEL_c0fc2c870b274d0fa678d102c64c490d"
          }
        },
        "f7190f6c760a4c3f9185719dd95e7bc4": {
          "model_module": "@jupyter-widgets/controls",
          "model_name": "HTMLModel",
          "model_module_version": "1.5.0",
          "state": {
            "_view_name": "HTMLView",
            "style": "IPY_MODEL_77fff659680648ab87fec6deeecb0495",
            "_dom_classes": [],
            "description": "",
            "_model_name": "HTMLModel",
            "placeholder": "​",
            "_view_module": "@jupyter-widgets/controls",
            "_model_module_version": "1.5.0",
            "value": " 300/300 [00:42&lt;00:00,  7.04it/s]",
            "_view_count": null,
            "_view_module_version": "1.5.0",
            "description_tooltip": null,
            "_model_module": "@jupyter-widgets/controls",
            "layout": "IPY_MODEL_847d555ccf10443dae6316b02df9cbb0"
          }
        },
        "69809b0df45a48d7ac4e1d16a3ab47e3": {
          "model_module": "@jupyter-widgets/controls",
          "model_name": "DescriptionStyleModel",
          "model_module_version": "1.5.0",
          "state": {
            "_view_name": "StyleView",
            "_model_name": "DescriptionStyleModel",
            "description_width": "",
            "_view_module": "@jupyter-widgets/base",
            "_model_module_version": "1.5.0",
            "_view_count": null,
            "_view_module_version": "1.2.0",
            "_model_module": "@jupyter-widgets/controls"
          }
        },
        "a3dac3d60c834231acb47699880150a7": {
          "model_module": "@jupyter-widgets/base",
          "model_name": "LayoutModel",
          "model_module_version": "1.2.0",
          "state": {
            "_view_name": "LayoutView",
            "grid_template_rows": null,
            "right": null,
            "justify_content": null,
            "_view_module": "@jupyter-widgets/base",
            "overflow": null,
            "_model_module_version": "1.2.0",
            "_view_count": null,
            "flex_flow": null,
            "width": null,
            "min_width": null,
            "border": null,
            "align_items": null,
            "bottom": null,
            "_model_module": "@jupyter-widgets/base",
            "top": null,
            "grid_column": null,
            "overflow_y": null,
            "overflow_x": null,
            "grid_auto_flow": null,
            "grid_area": null,
            "grid_template_columns": null,
            "flex": null,
            "_model_name": "LayoutModel",
            "justify_items": null,
            "grid_row": null,
            "max_height": null,
            "align_content": null,
            "visibility": null,
            "align_self": null,
            "height": null,
            "min_height": null,
            "padding": null,
            "grid_auto_rows": null,
            "grid_gap": null,
            "max_width": null,
            "order": null,
            "_view_module_version": "1.2.0",
            "grid_template_areas": null,
            "object_position": null,
            "object_fit": null,
            "grid_auto_columns": null,
            "margin": null,
            "display": null,
            "left": null
          }
        },
        "b033c90823f0465f9f2f6f65d89cb0af": {
          "model_module": "@jupyter-widgets/controls",
          "model_name": "ProgressStyleModel",
          "model_module_version": "1.5.0",
          "state": {
            "_view_name": "StyleView",
            "_model_name": "ProgressStyleModel",
            "description_width": "",
            "_view_module": "@jupyter-widgets/base",
            "_model_module_version": "1.5.0",
            "_view_count": null,
            "_view_module_version": "1.2.0",
            "bar_color": null,
            "_model_module": "@jupyter-widgets/controls"
          }
        },
        "c0fc2c870b274d0fa678d102c64c490d": {
          "model_module": "@jupyter-widgets/base",
          "model_name": "LayoutModel",
          "model_module_version": "1.2.0",
          "state": {
            "_view_name": "LayoutView",
            "grid_template_rows": null,
            "right": null,
            "justify_content": null,
            "_view_module": "@jupyter-widgets/base",
            "overflow": null,
            "_model_module_version": "1.2.0",
            "_view_count": null,
            "flex_flow": null,
            "width": null,
            "min_width": null,
            "border": null,
            "align_items": null,
            "bottom": null,
            "_model_module": "@jupyter-widgets/base",
            "top": null,
            "grid_column": null,
            "overflow_y": null,
            "overflow_x": null,
            "grid_auto_flow": null,
            "grid_area": null,
            "grid_template_columns": null,
            "flex": null,
            "_model_name": "LayoutModel",
            "justify_items": null,
            "grid_row": null,
            "max_height": null,
            "align_content": null,
            "visibility": null,
            "align_self": null,
            "height": null,
            "min_height": null,
            "padding": null,
            "grid_auto_rows": null,
            "grid_gap": null,
            "max_width": null,
            "order": null,
            "_view_module_version": "1.2.0",
            "grid_template_areas": null,
            "object_position": null,
            "object_fit": null,
            "grid_auto_columns": null,
            "margin": null,
            "display": null,
            "left": null
          }
        },
        "77fff659680648ab87fec6deeecb0495": {
          "model_module": "@jupyter-widgets/controls",
          "model_name": "DescriptionStyleModel",
          "model_module_version": "1.5.0",
          "state": {
            "_view_name": "StyleView",
            "_model_name": "DescriptionStyleModel",
            "description_width": "",
            "_view_module": "@jupyter-widgets/base",
            "_model_module_version": "1.5.0",
            "_view_count": null,
            "_view_module_version": "1.2.0",
            "_model_module": "@jupyter-widgets/controls"
          }
        },
        "847d555ccf10443dae6316b02df9cbb0": {
          "model_module": "@jupyter-widgets/base",
          "model_name": "LayoutModel",
          "model_module_version": "1.2.0",
          "state": {
            "_view_name": "LayoutView",
            "grid_template_rows": null,
            "right": null,
            "justify_content": null,
            "_view_module": "@jupyter-widgets/base",
            "overflow": null,
            "_model_module_version": "1.2.0",
            "_view_count": null,
            "flex_flow": null,
            "width": null,
            "min_width": null,
            "border": null,
            "align_items": null,
            "bottom": null,
            "_model_module": "@jupyter-widgets/base",
            "top": null,
            "grid_column": null,
            "overflow_y": null,
            "overflow_x": null,
            "grid_auto_flow": null,
            "grid_area": null,
            "grid_template_columns": null,
            "flex": null,
            "_model_name": "LayoutModel",
            "justify_items": null,
            "grid_row": null,
            "max_height": null,
            "align_content": null,
            "visibility": null,
            "align_self": null,
            "height": null,
            "min_height": null,
            "padding": null,
            "grid_auto_rows": null,
            "grid_gap": null,
            "max_width": null,
            "order": null,
            "_view_module_version": "1.2.0",
            "grid_template_areas": null,
            "object_position": null,
            "object_fit": null,
            "grid_auto_columns": null,
            "margin": null,
            "display": null,
            "left": null
          }
        },
        "82c8596f893542ffb8353f9420d4d793": {
          "model_module": "@jupyter-widgets/controls",
          "model_name": "HBoxModel",
          "model_module_version": "1.5.0",
          "state": {
            "_view_name": "HBoxView",
            "_dom_classes": [],
            "_model_name": "HBoxModel",
            "_view_module": "@jupyter-widgets/controls",
            "_model_module_version": "1.5.0",
            "_view_count": null,
            "_view_module_version": "1.5.0",
            "box_style": "",
            "layout": "IPY_MODEL_1f0ef70fc89b45f2ae8e5fb529c80140",
            "_model_module": "@jupyter-widgets/controls",
            "children": [
              "IPY_MODEL_3e5594f193814e4a900bab3bbe564ef5",
              "IPY_MODEL_8c8c6e66e15f41f68d5a67bc47236d81",
              "IPY_MODEL_4be1c743530b4902ab6c1a398f636d41"
            ]
          }
        },
        "1f0ef70fc89b45f2ae8e5fb529c80140": {
          "model_module": "@jupyter-widgets/base",
          "model_name": "LayoutModel",
          "model_module_version": "1.2.0",
          "state": {
            "_view_name": "LayoutView",
            "grid_template_rows": null,
            "right": null,
            "justify_content": null,
            "_view_module": "@jupyter-widgets/base",
            "overflow": null,
            "_model_module_version": "1.2.0",
            "_view_count": null,
            "flex_flow": null,
            "width": null,
            "min_width": null,
            "border": null,
            "align_items": null,
            "bottom": null,
            "_model_module": "@jupyter-widgets/base",
            "top": null,
            "grid_column": null,
            "overflow_y": null,
            "overflow_x": null,
            "grid_auto_flow": null,
            "grid_area": null,
            "grid_template_columns": null,
            "flex": null,
            "_model_name": "LayoutModel",
            "justify_items": null,
            "grid_row": null,
            "max_height": null,
            "align_content": null,
            "visibility": null,
            "align_self": null,
            "height": null,
            "min_height": null,
            "padding": null,
            "grid_auto_rows": null,
            "grid_gap": null,
            "max_width": null,
            "order": null,
            "_view_module_version": "1.2.0",
            "grid_template_areas": null,
            "object_position": null,
            "object_fit": null,
            "grid_auto_columns": null,
            "margin": null,
            "display": null,
            "left": null
          }
        },
        "3e5594f193814e4a900bab3bbe564ef5": {
          "model_module": "@jupyter-widgets/controls",
          "model_name": "HTMLModel",
          "model_module_version": "1.5.0",
          "state": {
            "_view_name": "HTMLView",
            "style": "IPY_MODEL_7b84689b29c448b8bb26a1096458171d",
            "_dom_classes": [],
            "description": "",
            "_model_name": "HTMLModel",
            "placeholder": "​",
            "_view_module": "@jupyter-widgets/controls",
            "_model_module_version": "1.5.0",
            "value": "100%",
            "_view_count": null,
            "_view_module_version": "1.5.0",
            "description_tooltip": null,
            "_model_module": "@jupyter-widgets/controls",
            "layout": "IPY_MODEL_e29010fb542e4ca2a4e60a3f6c243d8a"
          }
        },
        "8c8c6e66e15f41f68d5a67bc47236d81": {
          "model_module": "@jupyter-widgets/controls",
          "model_name": "FloatProgressModel",
          "model_module_version": "1.5.0",
          "state": {
            "_view_name": "ProgressView",
            "style": "IPY_MODEL_932de69e20274edebdf355cf224e8e39",
            "_dom_classes": [],
            "description": "",
            "_model_name": "FloatProgressModel",
            "bar_style": "success",
            "max": 300,
            "_view_module": "@jupyter-widgets/controls",
            "_model_module_version": "1.5.0",
            "value": 300,
            "_view_count": null,
            "_view_module_version": "1.5.0",
            "orientation": "horizontal",
            "min": 0,
            "description_tooltip": null,
            "_model_module": "@jupyter-widgets/controls",
            "layout": "IPY_MODEL_46da2325a2d44078a6ed5d71dedfb9c2"
          }
        },
        "4be1c743530b4902ab6c1a398f636d41": {
          "model_module": "@jupyter-widgets/controls",
          "model_name": "HTMLModel",
          "model_module_version": "1.5.0",
          "state": {
            "_view_name": "HTMLView",
            "style": "IPY_MODEL_61f97116f4b34f77a1aa28f8d75a1fac",
            "_dom_classes": [],
            "description": "",
            "_model_name": "HTMLModel",
            "placeholder": "​",
            "_view_module": "@jupyter-widgets/controls",
            "_model_module_version": "1.5.0",
            "value": " 300/300 [00:43&lt;00:00,  6.85it/s]",
            "_view_count": null,
            "_view_module_version": "1.5.0",
            "description_tooltip": null,
            "_model_module": "@jupyter-widgets/controls",
            "layout": "IPY_MODEL_c36115f79243439bb384873c3af24182"
          }
        },
        "7b84689b29c448b8bb26a1096458171d": {
          "model_module": "@jupyter-widgets/controls",
          "model_name": "DescriptionStyleModel",
          "model_module_version": "1.5.0",
          "state": {
            "_view_name": "StyleView",
            "_model_name": "DescriptionStyleModel",
            "description_width": "",
            "_view_module": "@jupyter-widgets/base",
            "_model_module_version": "1.5.0",
            "_view_count": null,
            "_view_module_version": "1.2.0",
            "_model_module": "@jupyter-widgets/controls"
          }
        },
        "e29010fb542e4ca2a4e60a3f6c243d8a": {
          "model_module": "@jupyter-widgets/base",
          "model_name": "LayoutModel",
          "model_module_version": "1.2.0",
          "state": {
            "_view_name": "LayoutView",
            "grid_template_rows": null,
            "right": null,
            "justify_content": null,
            "_view_module": "@jupyter-widgets/base",
            "overflow": null,
            "_model_module_version": "1.2.0",
            "_view_count": null,
            "flex_flow": null,
            "width": null,
            "min_width": null,
            "border": null,
            "align_items": null,
            "bottom": null,
            "_model_module": "@jupyter-widgets/base",
            "top": null,
            "grid_column": null,
            "overflow_y": null,
            "overflow_x": null,
            "grid_auto_flow": null,
            "grid_area": null,
            "grid_template_columns": null,
            "flex": null,
            "_model_name": "LayoutModel",
            "justify_items": null,
            "grid_row": null,
            "max_height": null,
            "align_content": null,
            "visibility": null,
            "align_self": null,
            "height": null,
            "min_height": null,
            "padding": null,
            "grid_auto_rows": null,
            "grid_gap": null,
            "max_width": null,
            "order": null,
            "_view_module_version": "1.2.0",
            "grid_template_areas": null,
            "object_position": null,
            "object_fit": null,
            "grid_auto_columns": null,
            "margin": null,
            "display": null,
            "left": null
          }
        },
        "932de69e20274edebdf355cf224e8e39": {
          "model_module": "@jupyter-widgets/controls",
          "model_name": "ProgressStyleModel",
          "model_module_version": "1.5.0",
          "state": {
            "_view_name": "StyleView",
            "_model_name": "ProgressStyleModel",
            "description_width": "",
            "_view_module": "@jupyter-widgets/base",
            "_model_module_version": "1.5.0",
            "_view_count": null,
            "_view_module_version": "1.2.0",
            "bar_color": null,
            "_model_module": "@jupyter-widgets/controls"
          }
        },
        "46da2325a2d44078a6ed5d71dedfb9c2": {
          "model_module": "@jupyter-widgets/base",
          "model_name": "LayoutModel",
          "model_module_version": "1.2.0",
          "state": {
            "_view_name": "LayoutView",
            "grid_template_rows": null,
            "right": null,
            "justify_content": null,
            "_view_module": "@jupyter-widgets/base",
            "overflow": null,
            "_model_module_version": "1.2.0",
            "_view_count": null,
            "flex_flow": null,
            "width": null,
            "min_width": null,
            "border": null,
            "align_items": null,
            "bottom": null,
            "_model_module": "@jupyter-widgets/base",
            "top": null,
            "grid_column": null,
            "overflow_y": null,
            "overflow_x": null,
            "grid_auto_flow": null,
            "grid_area": null,
            "grid_template_columns": null,
            "flex": null,
            "_model_name": "LayoutModel",
            "justify_items": null,
            "grid_row": null,
            "max_height": null,
            "align_content": null,
            "visibility": null,
            "align_self": null,
            "height": null,
            "min_height": null,
            "padding": null,
            "grid_auto_rows": null,
            "grid_gap": null,
            "max_width": null,
            "order": null,
            "_view_module_version": "1.2.0",
            "grid_template_areas": null,
            "object_position": null,
            "object_fit": null,
            "grid_auto_columns": null,
            "margin": null,
            "display": null,
            "left": null
          }
        },
        "61f97116f4b34f77a1aa28f8d75a1fac": {
          "model_module": "@jupyter-widgets/controls",
          "model_name": "DescriptionStyleModel",
          "model_module_version": "1.5.0",
          "state": {
            "_view_name": "StyleView",
            "_model_name": "DescriptionStyleModel",
            "description_width": "",
            "_view_module": "@jupyter-widgets/base",
            "_model_module_version": "1.5.0",
            "_view_count": null,
            "_view_module_version": "1.2.0",
            "_model_module": "@jupyter-widgets/controls"
          }
        },
        "c36115f79243439bb384873c3af24182": {
          "model_module": "@jupyter-widgets/base",
          "model_name": "LayoutModel",
          "model_module_version": "1.2.0",
          "state": {
            "_view_name": "LayoutView",
            "grid_template_rows": null,
            "right": null,
            "justify_content": null,
            "_view_module": "@jupyter-widgets/base",
            "overflow": null,
            "_model_module_version": "1.2.0",
            "_view_count": null,
            "flex_flow": null,
            "width": null,
            "min_width": null,
            "border": null,
            "align_items": null,
            "bottom": null,
            "_model_module": "@jupyter-widgets/base",
            "top": null,
            "grid_column": null,
            "overflow_y": null,
            "overflow_x": null,
            "grid_auto_flow": null,
            "grid_area": null,
            "grid_template_columns": null,
            "flex": null,
            "_model_name": "LayoutModel",
            "justify_items": null,
            "grid_row": null,
            "max_height": null,
            "align_content": null,
            "visibility": null,
            "align_self": null,
            "height": null,
            "min_height": null,
            "padding": null,
            "grid_auto_rows": null,
            "grid_gap": null,
            "max_width": null,
            "order": null,
            "_view_module_version": "1.2.0",
            "grid_template_areas": null,
            "object_position": null,
            "object_fit": null,
            "grid_auto_columns": null,
            "margin": null,
            "display": null,
            "left": null
          }
        },
        "c0ba9fd7c9ad40eda70548b5089cc1b3": {
          "model_module": "@jupyter-widgets/controls",
          "model_name": "HBoxModel",
          "model_module_version": "1.5.0",
          "state": {
            "_view_name": "HBoxView",
            "_dom_classes": [],
            "_model_name": "HBoxModel",
            "_view_module": "@jupyter-widgets/controls",
            "_model_module_version": "1.5.0",
            "_view_count": null,
            "_view_module_version": "1.5.0",
            "box_style": "",
            "layout": "IPY_MODEL_88c045b6bbac4610a533ac5446df91a1",
            "_model_module": "@jupyter-widgets/controls",
            "children": [
              "IPY_MODEL_e26652d1ea8549dfb94dc78deddf0176",
              "IPY_MODEL_85304af096cd4f2cb69d06053a23ec2f",
              "IPY_MODEL_782d4495383e4ba79b40cae1c8a51ed3"
            ]
          }
        },
        "88c045b6bbac4610a533ac5446df91a1": {
          "model_module": "@jupyter-widgets/base",
          "model_name": "LayoutModel",
          "model_module_version": "1.2.0",
          "state": {
            "_view_name": "LayoutView",
            "grid_template_rows": null,
            "right": null,
            "justify_content": null,
            "_view_module": "@jupyter-widgets/base",
            "overflow": null,
            "_model_module_version": "1.2.0",
            "_view_count": null,
            "flex_flow": null,
            "width": null,
            "min_width": null,
            "border": null,
            "align_items": null,
            "bottom": null,
            "_model_module": "@jupyter-widgets/base",
            "top": null,
            "grid_column": null,
            "overflow_y": null,
            "overflow_x": null,
            "grid_auto_flow": null,
            "grid_area": null,
            "grid_template_columns": null,
            "flex": null,
            "_model_name": "LayoutModel",
            "justify_items": null,
            "grid_row": null,
            "max_height": null,
            "align_content": null,
            "visibility": null,
            "align_self": null,
            "height": null,
            "min_height": null,
            "padding": null,
            "grid_auto_rows": null,
            "grid_gap": null,
            "max_width": null,
            "order": null,
            "_view_module_version": "1.2.0",
            "grid_template_areas": null,
            "object_position": null,
            "object_fit": null,
            "grid_auto_columns": null,
            "margin": null,
            "display": null,
            "left": null
          }
        },
        "e26652d1ea8549dfb94dc78deddf0176": {
          "model_module": "@jupyter-widgets/controls",
          "model_name": "HTMLModel",
          "model_module_version": "1.5.0",
          "state": {
            "_view_name": "HTMLView",
            "style": "IPY_MODEL_ab4e2f34d6774d738f19b1d66a19f023",
            "_dom_classes": [],
            "description": "",
            "_model_name": "HTMLModel",
            "placeholder": "​",
            "_view_module": "@jupyter-widgets/controls",
            "_model_module_version": "1.5.0",
            "value": "100%",
            "_view_count": null,
            "_view_module_version": "1.5.0",
            "description_tooltip": null,
            "_model_module": "@jupyter-widgets/controls",
            "layout": "IPY_MODEL_3ce8fc7c80bc4aaeb2271308bf954f28"
          }
        },
        "85304af096cd4f2cb69d06053a23ec2f": {
          "model_module": "@jupyter-widgets/controls",
          "model_name": "FloatProgressModel",
          "model_module_version": "1.5.0",
          "state": {
            "_view_name": "ProgressView",
            "style": "IPY_MODEL_c6e235aec347436e9771fea360431cdb",
            "_dom_classes": [],
            "description": "",
            "_model_name": "FloatProgressModel",
            "bar_style": "success",
            "max": 300,
            "_view_module": "@jupyter-widgets/controls",
            "_model_module_version": "1.5.0",
            "value": 300,
            "_view_count": null,
            "_view_module_version": "1.5.0",
            "orientation": "horizontal",
            "min": 0,
            "description_tooltip": null,
            "_model_module": "@jupyter-widgets/controls",
            "layout": "IPY_MODEL_7cf547e2de82415484c34fa50e00dd24"
          }
        },
        "782d4495383e4ba79b40cae1c8a51ed3": {
          "model_module": "@jupyter-widgets/controls",
          "model_name": "HTMLModel",
          "model_module_version": "1.5.0",
          "state": {
            "_view_name": "HTMLView",
            "style": "IPY_MODEL_0b7e9b3f7cff444ebc20161030b6d17d",
            "_dom_classes": [],
            "description": "",
            "_model_name": "HTMLModel",
            "placeholder": "​",
            "_view_module": "@jupyter-widgets/controls",
            "_model_module_version": "1.5.0",
            "value": " 300/300 [00:43&lt;00:00,  6.68it/s]",
            "_view_count": null,
            "_view_module_version": "1.5.0",
            "description_tooltip": null,
            "_model_module": "@jupyter-widgets/controls",
            "layout": "IPY_MODEL_6d1a41e2b0a947aea7115c9b56812c94"
          }
        },
        "ab4e2f34d6774d738f19b1d66a19f023": {
          "model_module": "@jupyter-widgets/controls",
          "model_name": "DescriptionStyleModel",
          "model_module_version": "1.5.0",
          "state": {
            "_view_name": "StyleView",
            "_model_name": "DescriptionStyleModel",
            "description_width": "",
            "_view_module": "@jupyter-widgets/base",
            "_model_module_version": "1.5.0",
            "_view_count": null,
            "_view_module_version": "1.2.0",
            "_model_module": "@jupyter-widgets/controls"
          }
        },
        "3ce8fc7c80bc4aaeb2271308bf954f28": {
          "model_module": "@jupyter-widgets/base",
          "model_name": "LayoutModel",
          "model_module_version": "1.2.0",
          "state": {
            "_view_name": "LayoutView",
            "grid_template_rows": null,
            "right": null,
            "justify_content": null,
            "_view_module": "@jupyter-widgets/base",
            "overflow": null,
            "_model_module_version": "1.2.0",
            "_view_count": null,
            "flex_flow": null,
            "width": null,
            "min_width": null,
            "border": null,
            "align_items": null,
            "bottom": null,
            "_model_module": "@jupyter-widgets/base",
            "top": null,
            "grid_column": null,
            "overflow_y": null,
            "overflow_x": null,
            "grid_auto_flow": null,
            "grid_area": null,
            "grid_template_columns": null,
            "flex": null,
            "_model_name": "LayoutModel",
            "justify_items": null,
            "grid_row": null,
            "max_height": null,
            "align_content": null,
            "visibility": null,
            "align_self": null,
            "height": null,
            "min_height": null,
            "padding": null,
            "grid_auto_rows": null,
            "grid_gap": null,
            "max_width": null,
            "order": null,
            "_view_module_version": "1.2.0",
            "grid_template_areas": null,
            "object_position": null,
            "object_fit": null,
            "grid_auto_columns": null,
            "margin": null,
            "display": null,
            "left": null
          }
        },
        "c6e235aec347436e9771fea360431cdb": {
          "model_module": "@jupyter-widgets/controls",
          "model_name": "ProgressStyleModel",
          "model_module_version": "1.5.0",
          "state": {
            "_view_name": "StyleView",
            "_model_name": "ProgressStyleModel",
            "description_width": "",
            "_view_module": "@jupyter-widgets/base",
            "_model_module_version": "1.5.0",
            "_view_count": null,
            "_view_module_version": "1.2.0",
            "bar_color": null,
            "_model_module": "@jupyter-widgets/controls"
          }
        },
        "7cf547e2de82415484c34fa50e00dd24": {
          "model_module": "@jupyter-widgets/base",
          "model_name": "LayoutModel",
          "model_module_version": "1.2.0",
          "state": {
            "_view_name": "LayoutView",
            "grid_template_rows": null,
            "right": null,
            "justify_content": null,
            "_view_module": "@jupyter-widgets/base",
            "overflow": null,
            "_model_module_version": "1.2.0",
            "_view_count": null,
            "flex_flow": null,
            "width": null,
            "min_width": null,
            "border": null,
            "align_items": null,
            "bottom": null,
            "_model_module": "@jupyter-widgets/base",
            "top": null,
            "grid_column": null,
            "overflow_y": null,
            "overflow_x": null,
            "grid_auto_flow": null,
            "grid_area": null,
            "grid_template_columns": null,
            "flex": null,
            "_model_name": "LayoutModel",
            "justify_items": null,
            "grid_row": null,
            "max_height": null,
            "align_content": null,
            "visibility": null,
            "align_self": null,
            "height": null,
            "min_height": null,
            "padding": null,
            "grid_auto_rows": null,
            "grid_gap": null,
            "max_width": null,
            "order": null,
            "_view_module_version": "1.2.0",
            "grid_template_areas": null,
            "object_position": null,
            "object_fit": null,
            "grid_auto_columns": null,
            "margin": null,
            "display": null,
            "left": null
          }
        },
        "0b7e9b3f7cff444ebc20161030b6d17d": {
          "model_module": "@jupyter-widgets/controls",
          "model_name": "DescriptionStyleModel",
          "model_module_version": "1.5.0",
          "state": {
            "_view_name": "StyleView",
            "_model_name": "DescriptionStyleModel",
            "description_width": "",
            "_view_module": "@jupyter-widgets/base",
            "_model_module_version": "1.5.0",
            "_view_count": null,
            "_view_module_version": "1.2.0",
            "_model_module": "@jupyter-widgets/controls"
          }
        },
        "6d1a41e2b0a947aea7115c9b56812c94": {
          "model_module": "@jupyter-widgets/base",
          "model_name": "LayoutModel",
          "model_module_version": "1.2.0",
          "state": {
            "_view_name": "LayoutView",
            "grid_template_rows": null,
            "right": null,
            "justify_content": null,
            "_view_module": "@jupyter-widgets/base",
            "overflow": null,
            "_model_module_version": "1.2.0",
            "_view_count": null,
            "flex_flow": null,
            "width": null,
            "min_width": null,
            "border": null,
            "align_items": null,
            "bottom": null,
            "_model_module": "@jupyter-widgets/base",
            "top": null,
            "grid_column": null,
            "overflow_y": null,
            "overflow_x": null,
            "grid_auto_flow": null,
            "grid_area": null,
            "grid_template_columns": null,
            "flex": null,
            "_model_name": "LayoutModel",
            "justify_items": null,
            "grid_row": null,
            "max_height": null,
            "align_content": null,
            "visibility": null,
            "align_self": null,
            "height": null,
            "min_height": null,
            "padding": null,
            "grid_auto_rows": null,
            "grid_gap": null,
            "max_width": null,
            "order": null,
            "_view_module_version": "1.2.0",
            "grid_template_areas": null,
            "object_position": null,
            "object_fit": null,
            "grid_auto_columns": null,
            "margin": null,
            "display": null,
            "left": null
          }
        },
        "b611e021dc7a4e78ab5b85f3b950e5e4": {
          "model_module": "@jupyter-widgets/controls",
          "model_name": "HBoxModel",
          "model_module_version": "1.5.0",
          "state": {
            "_view_name": "HBoxView",
            "_dom_classes": [],
            "_model_name": "HBoxModel",
            "_view_module": "@jupyter-widgets/controls",
            "_model_module_version": "1.5.0",
            "_view_count": null,
            "_view_module_version": "1.5.0",
            "box_style": "",
            "layout": "IPY_MODEL_afaaa5f4d9ea463b84a18b674ab9fdc6",
            "_model_module": "@jupyter-widgets/controls",
            "children": [
              "IPY_MODEL_324b4a701894468a8d4b5c94f1965ca0",
              "IPY_MODEL_4d69f8333ecc4f62b1ef234dbabd8a91",
              "IPY_MODEL_dce2396221da48a49f03b44b82fce9b7"
            ]
          }
        },
        "afaaa5f4d9ea463b84a18b674ab9fdc6": {
          "model_module": "@jupyter-widgets/base",
          "model_name": "LayoutModel",
          "model_module_version": "1.2.0",
          "state": {
            "_view_name": "LayoutView",
            "grid_template_rows": null,
            "right": null,
            "justify_content": null,
            "_view_module": "@jupyter-widgets/base",
            "overflow": null,
            "_model_module_version": "1.2.0",
            "_view_count": null,
            "flex_flow": null,
            "width": null,
            "min_width": null,
            "border": null,
            "align_items": null,
            "bottom": null,
            "_model_module": "@jupyter-widgets/base",
            "top": null,
            "grid_column": null,
            "overflow_y": null,
            "overflow_x": null,
            "grid_auto_flow": null,
            "grid_area": null,
            "grid_template_columns": null,
            "flex": null,
            "_model_name": "LayoutModel",
            "justify_items": null,
            "grid_row": null,
            "max_height": null,
            "align_content": null,
            "visibility": null,
            "align_self": null,
            "height": null,
            "min_height": null,
            "padding": null,
            "grid_auto_rows": null,
            "grid_gap": null,
            "max_width": null,
            "order": null,
            "_view_module_version": "1.2.0",
            "grid_template_areas": null,
            "object_position": null,
            "object_fit": null,
            "grid_auto_columns": null,
            "margin": null,
            "display": null,
            "left": null
          }
        },
        "324b4a701894468a8d4b5c94f1965ca0": {
          "model_module": "@jupyter-widgets/controls",
          "model_name": "HTMLModel",
          "model_module_version": "1.5.0",
          "state": {
            "_view_name": "HTMLView",
            "style": "IPY_MODEL_08b73601ea0649b29f3f326abb09a06b",
            "_dom_classes": [],
            "description": "",
            "_model_name": "HTMLModel",
            "placeholder": "​",
            "_view_module": "@jupyter-widgets/controls",
            "_model_module_version": "1.5.0",
            "value": "100%",
            "_view_count": null,
            "_view_module_version": "1.5.0",
            "description_tooltip": null,
            "_model_module": "@jupyter-widgets/controls",
            "layout": "IPY_MODEL_6d6ae514c70a4e08a724e32e2da0ffca"
          }
        },
        "4d69f8333ecc4f62b1ef234dbabd8a91": {
          "model_module": "@jupyter-widgets/controls",
          "model_name": "FloatProgressModel",
          "model_module_version": "1.5.0",
          "state": {
            "_view_name": "ProgressView",
            "style": "IPY_MODEL_e5a4ba3e62204c97a473e7020ed24253",
            "_dom_classes": [],
            "description": "",
            "_model_name": "FloatProgressModel",
            "bar_style": "success",
            "max": 300,
            "_view_module": "@jupyter-widgets/controls",
            "_model_module_version": "1.5.0",
            "value": 300,
            "_view_count": null,
            "_view_module_version": "1.5.0",
            "orientation": "horizontal",
            "min": 0,
            "description_tooltip": null,
            "_model_module": "@jupyter-widgets/controls",
            "layout": "IPY_MODEL_fe8b1bc3d41c43c3a7f0283047b84180"
          }
        },
        "dce2396221da48a49f03b44b82fce9b7": {
          "model_module": "@jupyter-widgets/controls",
          "model_name": "HTMLModel",
          "model_module_version": "1.5.0",
          "state": {
            "_view_name": "HTMLView",
            "style": "IPY_MODEL_0840d2a7ea37462b967cba5436cb8e51",
            "_dom_classes": [],
            "description": "",
            "_model_name": "HTMLModel",
            "placeholder": "​",
            "_view_module": "@jupyter-widgets/controls",
            "_model_module_version": "1.5.0",
            "value": " 300/300 [00:43&lt;00:00,  6.82it/s]",
            "_view_count": null,
            "_view_module_version": "1.5.0",
            "description_tooltip": null,
            "_model_module": "@jupyter-widgets/controls",
            "layout": "IPY_MODEL_6af2c1ad512243dd880d09d53abdf073"
          }
        },
        "08b73601ea0649b29f3f326abb09a06b": {
          "model_module": "@jupyter-widgets/controls",
          "model_name": "DescriptionStyleModel",
          "model_module_version": "1.5.0",
          "state": {
            "_view_name": "StyleView",
            "_model_name": "DescriptionStyleModel",
            "description_width": "",
            "_view_module": "@jupyter-widgets/base",
            "_model_module_version": "1.5.0",
            "_view_count": null,
            "_view_module_version": "1.2.0",
            "_model_module": "@jupyter-widgets/controls"
          }
        },
        "6d6ae514c70a4e08a724e32e2da0ffca": {
          "model_module": "@jupyter-widgets/base",
          "model_name": "LayoutModel",
          "model_module_version": "1.2.0",
          "state": {
            "_view_name": "LayoutView",
            "grid_template_rows": null,
            "right": null,
            "justify_content": null,
            "_view_module": "@jupyter-widgets/base",
            "overflow": null,
            "_model_module_version": "1.2.0",
            "_view_count": null,
            "flex_flow": null,
            "width": null,
            "min_width": null,
            "border": null,
            "align_items": null,
            "bottom": null,
            "_model_module": "@jupyter-widgets/base",
            "top": null,
            "grid_column": null,
            "overflow_y": null,
            "overflow_x": null,
            "grid_auto_flow": null,
            "grid_area": null,
            "grid_template_columns": null,
            "flex": null,
            "_model_name": "LayoutModel",
            "justify_items": null,
            "grid_row": null,
            "max_height": null,
            "align_content": null,
            "visibility": null,
            "align_self": null,
            "height": null,
            "min_height": null,
            "padding": null,
            "grid_auto_rows": null,
            "grid_gap": null,
            "max_width": null,
            "order": null,
            "_view_module_version": "1.2.0",
            "grid_template_areas": null,
            "object_position": null,
            "object_fit": null,
            "grid_auto_columns": null,
            "margin": null,
            "display": null,
            "left": null
          }
        },
        "e5a4ba3e62204c97a473e7020ed24253": {
          "model_module": "@jupyter-widgets/controls",
          "model_name": "ProgressStyleModel",
          "model_module_version": "1.5.0",
          "state": {
            "_view_name": "StyleView",
            "_model_name": "ProgressStyleModel",
            "description_width": "",
            "_view_module": "@jupyter-widgets/base",
            "_model_module_version": "1.5.0",
            "_view_count": null,
            "_view_module_version": "1.2.0",
            "bar_color": null,
            "_model_module": "@jupyter-widgets/controls"
          }
        },
        "fe8b1bc3d41c43c3a7f0283047b84180": {
          "model_module": "@jupyter-widgets/base",
          "model_name": "LayoutModel",
          "model_module_version": "1.2.0",
          "state": {
            "_view_name": "LayoutView",
            "grid_template_rows": null,
            "right": null,
            "justify_content": null,
            "_view_module": "@jupyter-widgets/base",
            "overflow": null,
            "_model_module_version": "1.2.0",
            "_view_count": null,
            "flex_flow": null,
            "width": null,
            "min_width": null,
            "border": null,
            "align_items": null,
            "bottom": null,
            "_model_module": "@jupyter-widgets/base",
            "top": null,
            "grid_column": null,
            "overflow_y": null,
            "overflow_x": null,
            "grid_auto_flow": null,
            "grid_area": null,
            "grid_template_columns": null,
            "flex": null,
            "_model_name": "LayoutModel",
            "justify_items": null,
            "grid_row": null,
            "max_height": null,
            "align_content": null,
            "visibility": null,
            "align_self": null,
            "height": null,
            "min_height": null,
            "padding": null,
            "grid_auto_rows": null,
            "grid_gap": null,
            "max_width": null,
            "order": null,
            "_view_module_version": "1.2.0",
            "grid_template_areas": null,
            "object_position": null,
            "object_fit": null,
            "grid_auto_columns": null,
            "margin": null,
            "display": null,
            "left": null
          }
        },
        "0840d2a7ea37462b967cba5436cb8e51": {
          "model_module": "@jupyter-widgets/controls",
          "model_name": "DescriptionStyleModel",
          "model_module_version": "1.5.0",
          "state": {
            "_view_name": "StyleView",
            "_model_name": "DescriptionStyleModel",
            "description_width": "",
            "_view_module": "@jupyter-widgets/base",
            "_model_module_version": "1.5.0",
            "_view_count": null,
            "_view_module_version": "1.2.0",
            "_model_module": "@jupyter-widgets/controls"
          }
        },
        "6af2c1ad512243dd880d09d53abdf073": {
          "model_module": "@jupyter-widgets/base",
          "model_name": "LayoutModel",
          "model_module_version": "1.2.0",
          "state": {
            "_view_name": "LayoutView",
            "grid_template_rows": null,
            "right": null,
            "justify_content": null,
            "_view_module": "@jupyter-widgets/base",
            "overflow": null,
            "_model_module_version": "1.2.0",
            "_view_count": null,
            "flex_flow": null,
            "width": null,
            "min_width": null,
            "border": null,
            "align_items": null,
            "bottom": null,
            "_model_module": "@jupyter-widgets/base",
            "top": null,
            "grid_column": null,
            "overflow_y": null,
            "overflow_x": null,
            "grid_auto_flow": null,
            "grid_area": null,
            "grid_template_columns": null,
            "flex": null,
            "_model_name": "LayoutModel",
            "justify_items": null,
            "grid_row": null,
            "max_height": null,
            "align_content": null,
            "visibility": null,
            "align_self": null,
            "height": null,
            "min_height": null,
            "padding": null,
            "grid_auto_rows": null,
            "grid_gap": null,
            "max_width": null,
            "order": null,
            "_view_module_version": "1.2.0",
            "grid_template_areas": null,
            "object_position": null,
            "object_fit": null,
            "grid_auto_columns": null,
            "margin": null,
            "display": null,
            "left": null
          }
        },
        "f3f606d9f31849f4bc8473f2d00035b4": {
          "model_module": "@jupyter-widgets/controls",
          "model_name": "HBoxModel",
          "model_module_version": "1.5.0",
          "state": {
            "_view_name": "HBoxView",
            "_dom_classes": [],
            "_model_name": "HBoxModel",
            "_view_module": "@jupyter-widgets/controls",
            "_model_module_version": "1.5.0",
            "_view_count": null,
            "_view_module_version": "1.5.0",
            "box_style": "",
            "layout": "IPY_MODEL_e46a68fbf621429db46250c5c67e0553",
            "_model_module": "@jupyter-widgets/controls",
            "children": [
              "IPY_MODEL_60f66e24241f496b856b9edc3d174e20",
              "IPY_MODEL_a8182fc6acde44628df3aee4d9b5a7c0",
              "IPY_MODEL_49ebabd1b3c34f79af0bee9a3942ea90"
            ]
          }
        },
        "e46a68fbf621429db46250c5c67e0553": {
          "model_module": "@jupyter-widgets/base",
          "model_name": "LayoutModel",
          "model_module_version": "1.2.0",
          "state": {
            "_view_name": "LayoutView",
            "grid_template_rows": null,
            "right": null,
            "justify_content": null,
            "_view_module": "@jupyter-widgets/base",
            "overflow": null,
            "_model_module_version": "1.2.0",
            "_view_count": null,
            "flex_flow": null,
            "width": null,
            "min_width": null,
            "border": null,
            "align_items": null,
            "bottom": null,
            "_model_module": "@jupyter-widgets/base",
            "top": null,
            "grid_column": null,
            "overflow_y": null,
            "overflow_x": null,
            "grid_auto_flow": null,
            "grid_area": null,
            "grid_template_columns": null,
            "flex": null,
            "_model_name": "LayoutModel",
            "justify_items": null,
            "grid_row": null,
            "max_height": null,
            "align_content": null,
            "visibility": null,
            "align_self": null,
            "height": null,
            "min_height": null,
            "padding": null,
            "grid_auto_rows": null,
            "grid_gap": null,
            "max_width": null,
            "order": null,
            "_view_module_version": "1.2.0",
            "grid_template_areas": null,
            "object_position": null,
            "object_fit": null,
            "grid_auto_columns": null,
            "margin": null,
            "display": null,
            "left": null
          }
        },
        "60f66e24241f496b856b9edc3d174e20": {
          "model_module": "@jupyter-widgets/controls",
          "model_name": "HTMLModel",
          "model_module_version": "1.5.0",
          "state": {
            "_view_name": "HTMLView",
            "style": "IPY_MODEL_4f2f92cff30a4c7ca8541c418589d7e6",
            "_dom_classes": [],
            "description": "",
            "_model_name": "HTMLModel",
            "placeholder": "​",
            "_view_module": "@jupyter-widgets/controls",
            "_model_module_version": "1.5.0",
            "value": "100%",
            "_view_count": null,
            "_view_module_version": "1.5.0",
            "description_tooltip": null,
            "_model_module": "@jupyter-widgets/controls",
            "layout": "IPY_MODEL_5921198c59b94335b75bafea7a8500e8"
          }
        },
        "a8182fc6acde44628df3aee4d9b5a7c0": {
          "model_module": "@jupyter-widgets/controls",
          "model_name": "FloatProgressModel",
          "model_module_version": "1.5.0",
          "state": {
            "_view_name": "ProgressView",
            "style": "IPY_MODEL_5c37e26d6cdf4758ab5ef29bd77425e9",
            "_dom_classes": [],
            "description": "",
            "_model_name": "FloatProgressModel",
            "bar_style": "success",
            "max": 300,
            "_view_module": "@jupyter-widgets/controls",
            "_model_module_version": "1.5.0",
            "value": 300,
            "_view_count": null,
            "_view_module_version": "1.5.0",
            "orientation": "horizontal",
            "min": 0,
            "description_tooltip": null,
            "_model_module": "@jupyter-widgets/controls",
            "layout": "IPY_MODEL_ef21c2991a2046e0b15bc8dccfc700a7"
          }
        },
        "49ebabd1b3c34f79af0bee9a3942ea90": {
          "model_module": "@jupyter-widgets/controls",
          "model_name": "HTMLModel",
          "model_module_version": "1.5.0",
          "state": {
            "_view_name": "HTMLView",
            "style": "IPY_MODEL_bfb019e466f44f1fabe1c2b13459f92b",
            "_dom_classes": [],
            "description": "",
            "_model_name": "HTMLModel",
            "placeholder": "​",
            "_view_module": "@jupyter-widgets/controls",
            "_model_module_version": "1.5.0",
            "value": " 300/300 [00:43&lt;00:00,  6.82it/s]",
            "_view_count": null,
            "_view_module_version": "1.5.0",
            "description_tooltip": null,
            "_model_module": "@jupyter-widgets/controls",
            "layout": "IPY_MODEL_abce62cc78c04c708549687dcb86f8b0"
          }
        },
        "4f2f92cff30a4c7ca8541c418589d7e6": {
          "model_module": "@jupyter-widgets/controls",
          "model_name": "DescriptionStyleModel",
          "model_module_version": "1.5.0",
          "state": {
            "_view_name": "StyleView",
            "_model_name": "DescriptionStyleModel",
            "description_width": "",
            "_view_module": "@jupyter-widgets/base",
            "_model_module_version": "1.5.0",
            "_view_count": null,
            "_view_module_version": "1.2.0",
            "_model_module": "@jupyter-widgets/controls"
          }
        },
        "5921198c59b94335b75bafea7a8500e8": {
          "model_module": "@jupyter-widgets/base",
          "model_name": "LayoutModel",
          "model_module_version": "1.2.0",
          "state": {
            "_view_name": "LayoutView",
            "grid_template_rows": null,
            "right": null,
            "justify_content": null,
            "_view_module": "@jupyter-widgets/base",
            "overflow": null,
            "_model_module_version": "1.2.0",
            "_view_count": null,
            "flex_flow": null,
            "width": null,
            "min_width": null,
            "border": null,
            "align_items": null,
            "bottom": null,
            "_model_module": "@jupyter-widgets/base",
            "top": null,
            "grid_column": null,
            "overflow_y": null,
            "overflow_x": null,
            "grid_auto_flow": null,
            "grid_area": null,
            "grid_template_columns": null,
            "flex": null,
            "_model_name": "LayoutModel",
            "justify_items": null,
            "grid_row": null,
            "max_height": null,
            "align_content": null,
            "visibility": null,
            "align_self": null,
            "height": null,
            "min_height": null,
            "padding": null,
            "grid_auto_rows": null,
            "grid_gap": null,
            "max_width": null,
            "order": null,
            "_view_module_version": "1.2.0",
            "grid_template_areas": null,
            "object_position": null,
            "object_fit": null,
            "grid_auto_columns": null,
            "margin": null,
            "display": null,
            "left": null
          }
        },
        "5c37e26d6cdf4758ab5ef29bd77425e9": {
          "model_module": "@jupyter-widgets/controls",
          "model_name": "ProgressStyleModel",
          "model_module_version": "1.5.0",
          "state": {
            "_view_name": "StyleView",
            "_model_name": "ProgressStyleModel",
            "description_width": "",
            "_view_module": "@jupyter-widgets/base",
            "_model_module_version": "1.5.0",
            "_view_count": null,
            "_view_module_version": "1.2.0",
            "bar_color": null,
            "_model_module": "@jupyter-widgets/controls"
          }
        },
        "ef21c2991a2046e0b15bc8dccfc700a7": {
          "model_module": "@jupyter-widgets/base",
          "model_name": "LayoutModel",
          "model_module_version": "1.2.0",
          "state": {
            "_view_name": "LayoutView",
            "grid_template_rows": null,
            "right": null,
            "justify_content": null,
            "_view_module": "@jupyter-widgets/base",
            "overflow": null,
            "_model_module_version": "1.2.0",
            "_view_count": null,
            "flex_flow": null,
            "width": null,
            "min_width": null,
            "border": null,
            "align_items": null,
            "bottom": null,
            "_model_module": "@jupyter-widgets/base",
            "top": null,
            "grid_column": null,
            "overflow_y": null,
            "overflow_x": null,
            "grid_auto_flow": null,
            "grid_area": null,
            "grid_template_columns": null,
            "flex": null,
            "_model_name": "LayoutModel",
            "justify_items": null,
            "grid_row": null,
            "max_height": null,
            "align_content": null,
            "visibility": null,
            "align_self": null,
            "height": null,
            "min_height": null,
            "padding": null,
            "grid_auto_rows": null,
            "grid_gap": null,
            "max_width": null,
            "order": null,
            "_view_module_version": "1.2.0",
            "grid_template_areas": null,
            "object_position": null,
            "object_fit": null,
            "grid_auto_columns": null,
            "margin": null,
            "display": null,
            "left": null
          }
        },
        "bfb019e466f44f1fabe1c2b13459f92b": {
          "model_module": "@jupyter-widgets/controls",
          "model_name": "DescriptionStyleModel",
          "model_module_version": "1.5.0",
          "state": {
            "_view_name": "StyleView",
            "_model_name": "DescriptionStyleModel",
            "description_width": "",
            "_view_module": "@jupyter-widgets/base",
            "_model_module_version": "1.5.0",
            "_view_count": null,
            "_view_module_version": "1.2.0",
            "_model_module": "@jupyter-widgets/controls"
          }
        },
        "abce62cc78c04c708549687dcb86f8b0": {
          "model_module": "@jupyter-widgets/base",
          "model_name": "LayoutModel",
          "model_module_version": "1.2.0",
          "state": {
            "_view_name": "LayoutView",
            "grid_template_rows": null,
            "right": null,
            "justify_content": null,
            "_view_module": "@jupyter-widgets/base",
            "overflow": null,
            "_model_module_version": "1.2.0",
            "_view_count": null,
            "flex_flow": null,
            "width": null,
            "min_width": null,
            "border": null,
            "align_items": null,
            "bottom": null,
            "_model_module": "@jupyter-widgets/base",
            "top": null,
            "grid_column": null,
            "overflow_y": null,
            "overflow_x": null,
            "grid_auto_flow": null,
            "grid_area": null,
            "grid_template_columns": null,
            "flex": null,
            "_model_name": "LayoutModel",
            "justify_items": null,
            "grid_row": null,
            "max_height": null,
            "align_content": null,
            "visibility": null,
            "align_self": null,
            "height": null,
            "min_height": null,
            "padding": null,
            "grid_auto_rows": null,
            "grid_gap": null,
            "max_width": null,
            "order": null,
            "_view_module_version": "1.2.0",
            "grid_template_areas": null,
            "object_position": null,
            "object_fit": null,
            "grid_auto_columns": null,
            "margin": null,
            "display": null,
            "left": null
          }
        },
        "649e2bda00c0434682cb62f8cfe585b0": {
          "model_module": "@jupyter-widgets/controls",
          "model_name": "HBoxModel",
          "model_module_version": "1.5.0",
          "state": {
            "_view_name": "HBoxView",
            "_dom_classes": [],
            "_model_name": "HBoxModel",
            "_view_module": "@jupyter-widgets/controls",
            "_model_module_version": "1.5.0",
            "_view_count": null,
            "_view_module_version": "1.5.0",
            "box_style": "",
            "layout": "IPY_MODEL_02d6c51a1f5049a4a82a84ce0b5a8f9c",
            "_model_module": "@jupyter-widgets/controls",
            "children": [
              "IPY_MODEL_1ecd57fb43ed4e6280a8bc72e9790bff",
              "IPY_MODEL_0e51a3bed3844805b60df05e7e73e6bd",
              "IPY_MODEL_6007eb7855174a7e9f92d5404cddc15c"
            ]
          }
        },
        "02d6c51a1f5049a4a82a84ce0b5a8f9c": {
          "model_module": "@jupyter-widgets/base",
          "model_name": "LayoutModel",
          "model_module_version": "1.2.0",
          "state": {
            "_view_name": "LayoutView",
            "grid_template_rows": null,
            "right": null,
            "justify_content": null,
            "_view_module": "@jupyter-widgets/base",
            "overflow": null,
            "_model_module_version": "1.2.0",
            "_view_count": null,
            "flex_flow": null,
            "width": null,
            "min_width": null,
            "border": null,
            "align_items": null,
            "bottom": null,
            "_model_module": "@jupyter-widgets/base",
            "top": null,
            "grid_column": null,
            "overflow_y": null,
            "overflow_x": null,
            "grid_auto_flow": null,
            "grid_area": null,
            "grid_template_columns": null,
            "flex": null,
            "_model_name": "LayoutModel",
            "justify_items": null,
            "grid_row": null,
            "max_height": null,
            "align_content": null,
            "visibility": null,
            "align_self": null,
            "height": null,
            "min_height": null,
            "padding": null,
            "grid_auto_rows": null,
            "grid_gap": null,
            "max_width": null,
            "order": null,
            "_view_module_version": "1.2.0",
            "grid_template_areas": null,
            "object_position": null,
            "object_fit": null,
            "grid_auto_columns": null,
            "margin": null,
            "display": null,
            "left": null
          }
        },
        "1ecd57fb43ed4e6280a8bc72e9790bff": {
          "model_module": "@jupyter-widgets/controls",
          "model_name": "HTMLModel",
          "model_module_version": "1.5.0",
          "state": {
            "_view_name": "HTMLView",
            "style": "IPY_MODEL_055b35fc9fd74c0788d5c934bdfe83e3",
            "_dom_classes": [],
            "description": "",
            "_model_name": "HTMLModel",
            "placeholder": "​",
            "_view_module": "@jupyter-widgets/controls",
            "_model_module_version": "1.5.0",
            "value": "100%",
            "_view_count": null,
            "_view_module_version": "1.5.0",
            "description_tooltip": null,
            "_model_module": "@jupyter-widgets/controls",
            "layout": "IPY_MODEL_04c1af726a9e41cf92b54ae7daa19054"
          }
        },
        "0e51a3bed3844805b60df05e7e73e6bd": {
          "model_module": "@jupyter-widgets/controls",
          "model_name": "FloatProgressModel",
          "model_module_version": "1.5.0",
          "state": {
            "_view_name": "ProgressView",
            "style": "IPY_MODEL_44c0076f90b34197b58b3b995404b72c",
            "_dom_classes": [],
            "description": "",
            "_model_name": "FloatProgressModel",
            "bar_style": "success",
            "max": 300,
            "_view_module": "@jupyter-widgets/controls",
            "_model_module_version": "1.5.0",
            "value": 300,
            "_view_count": null,
            "_view_module_version": "1.5.0",
            "orientation": "horizontal",
            "min": 0,
            "description_tooltip": null,
            "_model_module": "@jupyter-widgets/controls",
            "layout": "IPY_MODEL_559c26acc1874f4e98cbc25b2ee9c9d2"
          }
        },
        "6007eb7855174a7e9f92d5404cddc15c": {
          "model_module": "@jupyter-widgets/controls",
          "model_name": "HTMLModel",
          "model_module_version": "1.5.0",
          "state": {
            "_view_name": "HTMLView",
            "style": "IPY_MODEL_3864c8e4f8d64282ae83bb0fb562f60d",
            "_dom_classes": [],
            "description": "",
            "_model_name": "HTMLModel",
            "placeholder": "​",
            "_view_module": "@jupyter-widgets/controls",
            "_model_module_version": "1.5.0",
            "value": " 300/300 [00:43&lt;00:00,  6.81it/s]",
            "_view_count": null,
            "_view_module_version": "1.5.0",
            "description_tooltip": null,
            "_model_module": "@jupyter-widgets/controls",
            "layout": "IPY_MODEL_630dc9944d9e483fba5999c51066abd9"
          }
        },
        "055b35fc9fd74c0788d5c934bdfe83e3": {
          "model_module": "@jupyter-widgets/controls",
          "model_name": "DescriptionStyleModel",
          "model_module_version": "1.5.0",
          "state": {
            "_view_name": "StyleView",
            "_model_name": "DescriptionStyleModel",
            "description_width": "",
            "_view_module": "@jupyter-widgets/base",
            "_model_module_version": "1.5.0",
            "_view_count": null,
            "_view_module_version": "1.2.0",
            "_model_module": "@jupyter-widgets/controls"
          }
        },
        "04c1af726a9e41cf92b54ae7daa19054": {
          "model_module": "@jupyter-widgets/base",
          "model_name": "LayoutModel",
          "model_module_version": "1.2.0",
          "state": {
            "_view_name": "LayoutView",
            "grid_template_rows": null,
            "right": null,
            "justify_content": null,
            "_view_module": "@jupyter-widgets/base",
            "overflow": null,
            "_model_module_version": "1.2.0",
            "_view_count": null,
            "flex_flow": null,
            "width": null,
            "min_width": null,
            "border": null,
            "align_items": null,
            "bottom": null,
            "_model_module": "@jupyter-widgets/base",
            "top": null,
            "grid_column": null,
            "overflow_y": null,
            "overflow_x": null,
            "grid_auto_flow": null,
            "grid_area": null,
            "grid_template_columns": null,
            "flex": null,
            "_model_name": "LayoutModel",
            "justify_items": null,
            "grid_row": null,
            "max_height": null,
            "align_content": null,
            "visibility": null,
            "align_self": null,
            "height": null,
            "min_height": null,
            "padding": null,
            "grid_auto_rows": null,
            "grid_gap": null,
            "max_width": null,
            "order": null,
            "_view_module_version": "1.2.0",
            "grid_template_areas": null,
            "object_position": null,
            "object_fit": null,
            "grid_auto_columns": null,
            "margin": null,
            "display": null,
            "left": null
          }
        },
        "44c0076f90b34197b58b3b995404b72c": {
          "model_module": "@jupyter-widgets/controls",
          "model_name": "ProgressStyleModel",
          "model_module_version": "1.5.0",
          "state": {
            "_view_name": "StyleView",
            "_model_name": "ProgressStyleModel",
            "description_width": "",
            "_view_module": "@jupyter-widgets/base",
            "_model_module_version": "1.5.0",
            "_view_count": null,
            "_view_module_version": "1.2.0",
            "bar_color": null,
            "_model_module": "@jupyter-widgets/controls"
          }
        },
        "559c26acc1874f4e98cbc25b2ee9c9d2": {
          "model_module": "@jupyter-widgets/base",
          "model_name": "LayoutModel",
          "model_module_version": "1.2.0",
          "state": {
            "_view_name": "LayoutView",
            "grid_template_rows": null,
            "right": null,
            "justify_content": null,
            "_view_module": "@jupyter-widgets/base",
            "overflow": null,
            "_model_module_version": "1.2.0",
            "_view_count": null,
            "flex_flow": null,
            "width": null,
            "min_width": null,
            "border": null,
            "align_items": null,
            "bottom": null,
            "_model_module": "@jupyter-widgets/base",
            "top": null,
            "grid_column": null,
            "overflow_y": null,
            "overflow_x": null,
            "grid_auto_flow": null,
            "grid_area": null,
            "grid_template_columns": null,
            "flex": null,
            "_model_name": "LayoutModel",
            "justify_items": null,
            "grid_row": null,
            "max_height": null,
            "align_content": null,
            "visibility": null,
            "align_self": null,
            "height": null,
            "min_height": null,
            "padding": null,
            "grid_auto_rows": null,
            "grid_gap": null,
            "max_width": null,
            "order": null,
            "_view_module_version": "1.2.0",
            "grid_template_areas": null,
            "object_position": null,
            "object_fit": null,
            "grid_auto_columns": null,
            "margin": null,
            "display": null,
            "left": null
          }
        },
        "3864c8e4f8d64282ae83bb0fb562f60d": {
          "model_module": "@jupyter-widgets/controls",
          "model_name": "DescriptionStyleModel",
          "model_module_version": "1.5.0",
          "state": {
            "_view_name": "StyleView",
            "_model_name": "DescriptionStyleModel",
            "description_width": "",
            "_view_module": "@jupyter-widgets/base",
            "_model_module_version": "1.5.0",
            "_view_count": null,
            "_view_module_version": "1.2.0",
            "_model_module": "@jupyter-widgets/controls"
          }
        },
        "630dc9944d9e483fba5999c51066abd9": {
          "model_module": "@jupyter-widgets/base",
          "model_name": "LayoutModel",
          "model_module_version": "1.2.0",
          "state": {
            "_view_name": "LayoutView",
            "grid_template_rows": null,
            "right": null,
            "justify_content": null,
            "_view_module": "@jupyter-widgets/base",
            "overflow": null,
            "_model_module_version": "1.2.0",
            "_view_count": null,
            "flex_flow": null,
            "width": null,
            "min_width": null,
            "border": null,
            "align_items": null,
            "bottom": null,
            "_model_module": "@jupyter-widgets/base",
            "top": null,
            "grid_column": null,
            "overflow_y": null,
            "overflow_x": null,
            "grid_auto_flow": null,
            "grid_area": null,
            "grid_template_columns": null,
            "flex": null,
            "_model_name": "LayoutModel",
            "justify_items": null,
            "grid_row": null,
            "max_height": null,
            "align_content": null,
            "visibility": null,
            "align_self": null,
            "height": null,
            "min_height": null,
            "padding": null,
            "grid_auto_rows": null,
            "grid_gap": null,
            "max_width": null,
            "order": null,
            "_view_module_version": "1.2.0",
            "grid_template_areas": null,
            "object_position": null,
            "object_fit": null,
            "grid_auto_columns": null,
            "margin": null,
            "display": null,
            "left": null
          }
        },
        "e6d4d37a79254490b615bb6cbaff6b56": {
          "model_module": "@jupyter-widgets/controls",
          "model_name": "HBoxModel",
          "model_module_version": "1.5.0",
          "state": {
            "_view_name": "HBoxView",
            "_dom_classes": [],
            "_model_name": "HBoxModel",
            "_view_module": "@jupyter-widgets/controls",
            "_model_module_version": "1.5.0",
            "_view_count": null,
            "_view_module_version": "1.5.0",
            "box_style": "",
            "layout": "IPY_MODEL_0c0a5c71099340f0b1289a1a4b0c25fe",
            "_model_module": "@jupyter-widgets/controls",
            "children": [
              "IPY_MODEL_2cce9f85a1de4cd3bc22a70452eddc67",
              "IPY_MODEL_2ae244b6189b4badab0408ae8d4a5d0f",
              "IPY_MODEL_776cf44e2b22482daade2d824295ab0f"
            ]
          }
        },
        "0c0a5c71099340f0b1289a1a4b0c25fe": {
          "model_module": "@jupyter-widgets/base",
          "model_name": "LayoutModel",
          "model_module_version": "1.2.0",
          "state": {
            "_view_name": "LayoutView",
            "grid_template_rows": null,
            "right": null,
            "justify_content": null,
            "_view_module": "@jupyter-widgets/base",
            "overflow": null,
            "_model_module_version": "1.2.0",
            "_view_count": null,
            "flex_flow": null,
            "width": null,
            "min_width": null,
            "border": null,
            "align_items": null,
            "bottom": null,
            "_model_module": "@jupyter-widgets/base",
            "top": null,
            "grid_column": null,
            "overflow_y": null,
            "overflow_x": null,
            "grid_auto_flow": null,
            "grid_area": null,
            "grid_template_columns": null,
            "flex": null,
            "_model_name": "LayoutModel",
            "justify_items": null,
            "grid_row": null,
            "max_height": null,
            "align_content": null,
            "visibility": null,
            "align_self": null,
            "height": null,
            "min_height": null,
            "padding": null,
            "grid_auto_rows": null,
            "grid_gap": null,
            "max_width": null,
            "order": null,
            "_view_module_version": "1.2.0",
            "grid_template_areas": null,
            "object_position": null,
            "object_fit": null,
            "grid_auto_columns": null,
            "margin": null,
            "display": null,
            "left": null
          }
        },
        "2cce9f85a1de4cd3bc22a70452eddc67": {
          "model_module": "@jupyter-widgets/controls",
          "model_name": "HTMLModel",
          "model_module_version": "1.5.0",
          "state": {
            "_view_name": "HTMLView",
            "style": "IPY_MODEL_109c0015645749b49d579f5375c28a63",
            "_dom_classes": [],
            "description": "",
            "_model_name": "HTMLModel",
            "placeholder": "​",
            "_view_module": "@jupyter-widgets/controls",
            "_model_module_version": "1.5.0",
            "value": "100%",
            "_view_count": null,
            "_view_module_version": "1.5.0",
            "description_tooltip": null,
            "_model_module": "@jupyter-widgets/controls",
            "layout": "IPY_MODEL_18737adcc33549f2bfc5f51e0d4e200e"
          }
        },
        "2ae244b6189b4badab0408ae8d4a5d0f": {
          "model_module": "@jupyter-widgets/controls",
          "model_name": "FloatProgressModel",
          "model_module_version": "1.5.0",
          "state": {
            "_view_name": "ProgressView",
            "style": "IPY_MODEL_df32fe1d93d844f5a9a0b71ab3aab3d9",
            "_dom_classes": [],
            "description": "",
            "_model_name": "FloatProgressModel",
            "bar_style": "success",
            "max": 300,
            "_view_module": "@jupyter-widgets/controls",
            "_model_module_version": "1.5.0",
            "value": 300,
            "_view_count": null,
            "_view_module_version": "1.5.0",
            "orientation": "horizontal",
            "min": 0,
            "description_tooltip": null,
            "_model_module": "@jupyter-widgets/controls",
            "layout": "IPY_MODEL_2be4341514f8490a8e9d8dcd924b3444"
          }
        },
        "776cf44e2b22482daade2d824295ab0f": {
          "model_module": "@jupyter-widgets/controls",
          "model_name": "HTMLModel",
          "model_module_version": "1.5.0",
          "state": {
            "_view_name": "HTMLView",
            "style": "IPY_MODEL_67bd391eca624dd4a05218eebc497370",
            "_dom_classes": [],
            "description": "",
            "_model_name": "HTMLModel",
            "placeholder": "​",
            "_view_module": "@jupyter-widgets/controls",
            "_model_module_version": "1.5.0",
            "value": " 300/300 [00:43&lt;00:00,  6.64it/s]",
            "_view_count": null,
            "_view_module_version": "1.5.0",
            "description_tooltip": null,
            "_model_module": "@jupyter-widgets/controls",
            "layout": "IPY_MODEL_0229c7d6981345e9a79f266dd76f4440"
          }
        },
        "109c0015645749b49d579f5375c28a63": {
          "model_module": "@jupyter-widgets/controls",
          "model_name": "DescriptionStyleModel",
          "model_module_version": "1.5.0",
          "state": {
            "_view_name": "StyleView",
            "_model_name": "DescriptionStyleModel",
            "description_width": "",
            "_view_module": "@jupyter-widgets/base",
            "_model_module_version": "1.5.0",
            "_view_count": null,
            "_view_module_version": "1.2.0",
            "_model_module": "@jupyter-widgets/controls"
          }
        },
        "18737adcc33549f2bfc5f51e0d4e200e": {
          "model_module": "@jupyter-widgets/base",
          "model_name": "LayoutModel",
          "model_module_version": "1.2.0",
          "state": {
            "_view_name": "LayoutView",
            "grid_template_rows": null,
            "right": null,
            "justify_content": null,
            "_view_module": "@jupyter-widgets/base",
            "overflow": null,
            "_model_module_version": "1.2.0",
            "_view_count": null,
            "flex_flow": null,
            "width": null,
            "min_width": null,
            "border": null,
            "align_items": null,
            "bottom": null,
            "_model_module": "@jupyter-widgets/base",
            "top": null,
            "grid_column": null,
            "overflow_y": null,
            "overflow_x": null,
            "grid_auto_flow": null,
            "grid_area": null,
            "grid_template_columns": null,
            "flex": null,
            "_model_name": "LayoutModel",
            "justify_items": null,
            "grid_row": null,
            "max_height": null,
            "align_content": null,
            "visibility": null,
            "align_self": null,
            "height": null,
            "min_height": null,
            "padding": null,
            "grid_auto_rows": null,
            "grid_gap": null,
            "max_width": null,
            "order": null,
            "_view_module_version": "1.2.0",
            "grid_template_areas": null,
            "object_position": null,
            "object_fit": null,
            "grid_auto_columns": null,
            "margin": null,
            "display": null,
            "left": null
          }
        },
        "df32fe1d93d844f5a9a0b71ab3aab3d9": {
          "model_module": "@jupyter-widgets/controls",
          "model_name": "ProgressStyleModel",
          "model_module_version": "1.5.0",
          "state": {
            "_view_name": "StyleView",
            "_model_name": "ProgressStyleModel",
            "description_width": "",
            "_view_module": "@jupyter-widgets/base",
            "_model_module_version": "1.5.0",
            "_view_count": null,
            "_view_module_version": "1.2.0",
            "bar_color": null,
            "_model_module": "@jupyter-widgets/controls"
          }
        },
        "2be4341514f8490a8e9d8dcd924b3444": {
          "model_module": "@jupyter-widgets/base",
          "model_name": "LayoutModel",
          "model_module_version": "1.2.0",
          "state": {
            "_view_name": "LayoutView",
            "grid_template_rows": null,
            "right": null,
            "justify_content": null,
            "_view_module": "@jupyter-widgets/base",
            "overflow": null,
            "_model_module_version": "1.2.0",
            "_view_count": null,
            "flex_flow": null,
            "width": null,
            "min_width": null,
            "border": null,
            "align_items": null,
            "bottom": null,
            "_model_module": "@jupyter-widgets/base",
            "top": null,
            "grid_column": null,
            "overflow_y": null,
            "overflow_x": null,
            "grid_auto_flow": null,
            "grid_area": null,
            "grid_template_columns": null,
            "flex": null,
            "_model_name": "LayoutModel",
            "justify_items": null,
            "grid_row": null,
            "max_height": null,
            "align_content": null,
            "visibility": null,
            "align_self": null,
            "height": null,
            "min_height": null,
            "padding": null,
            "grid_auto_rows": null,
            "grid_gap": null,
            "max_width": null,
            "order": null,
            "_view_module_version": "1.2.0",
            "grid_template_areas": null,
            "object_position": null,
            "object_fit": null,
            "grid_auto_columns": null,
            "margin": null,
            "display": null,
            "left": null
          }
        },
        "67bd391eca624dd4a05218eebc497370": {
          "model_module": "@jupyter-widgets/controls",
          "model_name": "DescriptionStyleModel",
          "model_module_version": "1.5.0",
          "state": {
            "_view_name": "StyleView",
            "_model_name": "DescriptionStyleModel",
            "description_width": "",
            "_view_module": "@jupyter-widgets/base",
            "_model_module_version": "1.5.0",
            "_view_count": null,
            "_view_module_version": "1.2.0",
            "_model_module": "@jupyter-widgets/controls"
          }
        },
        "0229c7d6981345e9a79f266dd76f4440": {
          "model_module": "@jupyter-widgets/base",
          "model_name": "LayoutModel",
          "model_module_version": "1.2.0",
          "state": {
            "_view_name": "LayoutView",
            "grid_template_rows": null,
            "right": null,
            "justify_content": null,
            "_view_module": "@jupyter-widgets/base",
            "overflow": null,
            "_model_module_version": "1.2.0",
            "_view_count": null,
            "flex_flow": null,
            "width": null,
            "min_width": null,
            "border": null,
            "align_items": null,
            "bottom": null,
            "_model_module": "@jupyter-widgets/base",
            "top": null,
            "grid_column": null,
            "overflow_y": null,
            "overflow_x": null,
            "grid_auto_flow": null,
            "grid_area": null,
            "grid_template_columns": null,
            "flex": null,
            "_model_name": "LayoutModel",
            "justify_items": null,
            "grid_row": null,
            "max_height": null,
            "align_content": null,
            "visibility": null,
            "align_self": null,
            "height": null,
            "min_height": null,
            "padding": null,
            "grid_auto_rows": null,
            "grid_gap": null,
            "max_width": null,
            "order": null,
            "_view_module_version": "1.2.0",
            "grid_template_areas": null,
            "object_position": null,
            "object_fit": null,
            "grid_auto_columns": null,
            "margin": null,
            "display": null,
            "left": null
          }
        },
        "8dd4c6bf2f2a4cb98c51f8fbb5a0fc40": {
          "model_module": "@jupyter-widgets/controls",
          "model_name": "HBoxModel",
          "model_module_version": "1.5.0",
          "state": {
            "_view_name": "HBoxView",
            "_dom_classes": [],
            "_model_name": "HBoxModel",
            "_view_module": "@jupyter-widgets/controls",
            "_model_module_version": "1.5.0",
            "_view_count": null,
            "_view_module_version": "1.5.0",
            "box_style": "",
            "layout": "IPY_MODEL_f2a88af2f915404098212b2edd757a89",
            "_model_module": "@jupyter-widgets/controls",
            "children": [
              "IPY_MODEL_8efd3310929d4db4ac426c3a1149c4cd",
              "IPY_MODEL_bd143af6d92444a69d3d3f5187a3a2e7",
              "IPY_MODEL_0018c373a1474f1bbb6dab44fd89f078"
            ]
          }
        },
        "f2a88af2f915404098212b2edd757a89": {
          "model_module": "@jupyter-widgets/base",
          "model_name": "LayoutModel",
          "model_module_version": "1.2.0",
          "state": {
            "_view_name": "LayoutView",
            "grid_template_rows": null,
            "right": null,
            "justify_content": null,
            "_view_module": "@jupyter-widgets/base",
            "overflow": null,
            "_model_module_version": "1.2.0",
            "_view_count": null,
            "flex_flow": null,
            "width": null,
            "min_width": null,
            "border": null,
            "align_items": null,
            "bottom": null,
            "_model_module": "@jupyter-widgets/base",
            "top": null,
            "grid_column": null,
            "overflow_y": null,
            "overflow_x": null,
            "grid_auto_flow": null,
            "grid_area": null,
            "grid_template_columns": null,
            "flex": null,
            "_model_name": "LayoutModel",
            "justify_items": null,
            "grid_row": null,
            "max_height": null,
            "align_content": null,
            "visibility": null,
            "align_self": null,
            "height": null,
            "min_height": null,
            "padding": null,
            "grid_auto_rows": null,
            "grid_gap": null,
            "max_width": null,
            "order": null,
            "_view_module_version": "1.2.0",
            "grid_template_areas": null,
            "object_position": null,
            "object_fit": null,
            "grid_auto_columns": null,
            "margin": null,
            "display": null,
            "left": null
          }
        },
        "8efd3310929d4db4ac426c3a1149c4cd": {
          "model_module": "@jupyter-widgets/controls",
          "model_name": "HTMLModel",
          "model_module_version": "1.5.0",
          "state": {
            "_view_name": "HTMLView",
            "style": "IPY_MODEL_acb56b4966f14861b6f571eb7d745a59",
            "_dom_classes": [],
            "description": "",
            "_model_name": "HTMLModel",
            "placeholder": "​",
            "_view_module": "@jupyter-widgets/controls",
            "_model_module_version": "1.5.0",
            "value": "100%",
            "_view_count": null,
            "_view_module_version": "1.5.0",
            "description_tooltip": null,
            "_model_module": "@jupyter-widgets/controls",
            "layout": "IPY_MODEL_e1e770db500a405f84405eeea0bbc122"
          }
        },
        "bd143af6d92444a69d3d3f5187a3a2e7": {
          "model_module": "@jupyter-widgets/controls",
          "model_name": "FloatProgressModel",
          "model_module_version": "1.5.0",
          "state": {
            "_view_name": "ProgressView",
            "style": "IPY_MODEL_02ec65c1caa54acdbbedea2772c597ed",
            "_dom_classes": [],
            "description": "",
            "_model_name": "FloatProgressModel",
            "bar_style": "success",
            "max": 300,
            "_view_module": "@jupyter-widgets/controls",
            "_model_module_version": "1.5.0",
            "value": 300,
            "_view_count": null,
            "_view_module_version": "1.5.0",
            "orientation": "horizontal",
            "min": 0,
            "description_tooltip": null,
            "_model_module": "@jupyter-widgets/controls",
            "layout": "IPY_MODEL_d93f959a9cda4a16a176da39026e24e7"
          }
        },
        "0018c373a1474f1bbb6dab44fd89f078": {
          "model_module": "@jupyter-widgets/controls",
          "model_name": "HTMLModel",
          "model_module_version": "1.5.0",
          "state": {
            "_view_name": "HTMLView",
            "style": "IPY_MODEL_37eeab23374e4b54ab081118535e0984",
            "_dom_classes": [],
            "description": "",
            "_model_name": "HTMLModel",
            "placeholder": "​",
            "_view_module": "@jupyter-widgets/controls",
            "_model_module_version": "1.5.0",
            "value": " 300/300 [00:43&lt;00:00,  6.75it/s]",
            "_view_count": null,
            "_view_module_version": "1.5.0",
            "description_tooltip": null,
            "_model_module": "@jupyter-widgets/controls",
            "layout": "IPY_MODEL_fe7bcae15739447c9666e5bfa1a99e35"
          }
        },
        "acb56b4966f14861b6f571eb7d745a59": {
          "model_module": "@jupyter-widgets/controls",
          "model_name": "DescriptionStyleModel",
          "model_module_version": "1.5.0",
          "state": {
            "_view_name": "StyleView",
            "_model_name": "DescriptionStyleModel",
            "description_width": "",
            "_view_module": "@jupyter-widgets/base",
            "_model_module_version": "1.5.0",
            "_view_count": null,
            "_view_module_version": "1.2.0",
            "_model_module": "@jupyter-widgets/controls"
          }
        },
        "e1e770db500a405f84405eeea0bbc122": {
          "model_module": "@jupyter-widgets/base",
          "model_name": "LayoutModel",
          "model_module_version": "1.2.0",
          "state": {
            "_view_name": "LayoutView",
            "grid_template_rows": null,
            "right": null,
            "justify_content": null,
            "_view_module": "@jupyter-widgets/base",
            "overflow": null,
            "_model_module_version": "1.2.0",
            "_view_count": null,
            "flex_flow": null,
            "width": null,
            "min_width": null,
            "border": null,
            "align_items": null,
            "bottom": null,
            "_model_module": "@jupyter-widgets/base",
            "top": null,
            "grid_column": null,
            "overflow_y": null,
            "overflow_x": null,
            "grid_auto_flow": null,
            "grid_area": null,
            "grid_template_columns": null,
            "flex": null,
            "_model_name": "LayoutModel",
            "justify_items": null,
            "grid_row": null,
            "max_height": null,
            "align_content": null,
            "visibility": null,
            "align_self": null,
            "height": null,
            "min_height": null,
            "padding": null,
            "grid_auto_rows": null,
            "grid_gap": null,
            "max_width": null,
            "order": null,
            "_view_module_version": "1.2.0",
            "grid_template_areas": null,
            "object_position": null,
            "object_fit": null,
            "grid_auto_columns": null,
            "margin": null,
            "display": null,
            "left": null
          }
        },
        "02ec65c1caa54acdbbedea2772c597ed": {
          "model_module": "@jupyter-widgets/controls",
          "model_name": "ProgressStyleModel",
          "model_module_version": "1.5.0",
          "state": {
            "_view_name": "StyleView",
            "_model_name": "ProgressStyleModel",
            "description_width": "",
            "_view_module": "@jupyter-widgets/base",
            "_model_module_version": "1.5.0",
            "_view_count": null,
            "_view_module_version": "1.2.0",
            "bar_color": null,
            "_model_module": "@jupyter-widgets/controls"
          }
        },
        "d93f959a9cda4a16a176da39026e24e7": {
          "model_module": "@jupyter-widgets/base",
          "model_name": "LayoutModel",
          "model_module_version": "1.2.0",
          "state": {
            "_view_name": "LayoutView",
            "grid_template_rows": null,
            "right": null,
            "justify_content": null,
            "_view_module": "@jupyter-widgets/base",
            "overflow": null,
            "_model_module_version": "1.2.0",
            "_view_count": null,
            "flex_flow": null,
            "width": null,
            "min_width": null,
            "border": null,
            "align_items": null,
            "bottom": null,
            "_model_module": "@jupyter-widgets/base",
            "top": null,
            "grid_column": null,
            "overflow_y": null,
            "overflow_x": null,
            "grid_auto_flow": null,
            "grid_area": null,
            "grid_template_columns": null,
            "flex": null,
            "_model_name": "LayoutModel",
            "justify_items": null,
            "grid_row": null,
            "max_height": null,
            "align_content": null,
            "visibility": null,
            "align_self": null,
            "height": null,
            "min_height": null,
            "padding": null,
            "grid_auto_rows": null,
            "grid_gap": null,
            "max_width": null,
            "order": null,
            "_view_module_version": "1.2.0",
            "grid_template_areas": null,
            "object_position": null,
            "object_fit": null,
            "grid_auto_columns": null,
            "margin": null,
            "display": null,
            "left": null
          }
        },
        "37eeab23374e4b54ab081118535e0984": {
          "model_module": "@jupyter-widgets/controls",
          "model_name": "DescriptionStyleModel",
          "model_module_version": "1.5.0",
          "state": {
            "_view_name": "StyleView",
            "_model_name": "DescriptionStyleModel",
            "description_width": "",
            "_view_module": "@jupyter-widgets/base",
            "_model_module_version": "1.5.0",
            "_view_count": null,
            "_view_module_version": "1.2.0",
            "_model_module": "@jupyter-widgets/controls"
          }
        },
        "fe7bcae15739447c9666e5bfa1a99e35": {
          "model_module": "@jupyter-widgets/base",
          "model_name": "LayoutModel",
          "model_module_version": "1.2.0",
          "state": {
            "_view_name": "LayoutView",
            "grid_template_rows": null,
            "right": null,
            "justify_content": null,
            "_view_module": "@jupyter-widgets/base",
            "overflow": null,
            "_model_module_version": "1.2.0",
            "_view_count": null,
            "flex_flow": null,
            "width": null,
            "min_width": null,
            "border": null,
            "align_items": null,
            "bottom": null,
            "_model_module": "@jupyter-widgets/base",
            "top": null,
            "grid_column": null,
            "overflow_y": null,
            "overflow_x": null,
            "grid_auto_flow": null,
            "grid_area": null,
            "grid_template_columns": null,
            "flex": null,
            "_model_name": "LayoutModel",
            "justify_items": null,
            "grid_row": null,
            "max_height": null,
            "align_content": null,
            "visibility": null,
            "align_self": null,
            "height": null,
            "min_height": null,
            "padding": null,
            "grid_auto_rows": null,
            "grid_gap": null,
            "max_width": null,
            "order": null,
            "_view_module_version": "1.2.0",
            "grid_template_areas": null,
            "object_position": null,
            "object_fit": null,
            "grid_auto_columns": null,
            "margin": null,
            "display": null,
            "left": null
          }
        },
        "ba2dfd16bb7441beb27eeac7075538c9": {
          "model_module": "@jupyter-widgets/controls",
          "model_name": "HBoxModel",
          "model_module_version": "1.5.0",
          "state": {
            "_view_name": "HBoxView",
            "_dom_classes": [],
            "_model_name": "HBoxModel",
            "_view_module": "@jupyter-widgets/controls",
            "_model_module_version": "1.5.0",
            "_view_count": null,
            "_view_module_version": "1.5.0",
            "box_style": "",
            "layout": "IPY_MODEL_20a53e82c99449e085c873f4141f940b",
            "_model_module": "@jupyter-widgets/controls",
            "children": [
              "IPY_MODEL_e9b984284af54305a034b208a84cf6fc",
              "IPY_MODEL_e50d481bca40482abbeea052f70a280b",
              "IPY_MODEL_f9583cc2bfef4cdbb60c02d9abc5923a"
            ]
          }
        },
        "20a53e82c99449e085c873f4141f940b": {
          "model_module": "@jupyter-widgets/base",
          "model_name": "LayoutModel",
          "model_module_version": "1.2.0",
          "state": {
            "_view_name": "LayoutView",
            "grid_template_rows": null,
            "right": null,
            "justify_content": null,
            "_view_module": "@jupyter-widgets/base",
            "overflow": null,
            "_model_module_version": "1.2.0",
            "_view_count": null,
            "flex_flow": null,
            "width": null,
            "min_width": null,
            "border": null,
            "align_items": null,
            "bottom": null,
            "_model_module": "@jupyter-widgets/base",
            "top": null,
            "grid_column": null,
            "overflow_y": null,
            "overflow_x": null,
            "grid_auto_flow": null,
            "grid_area": null,
            "grid_template_columns": null,
            "flex": null,
            "_model_name": "LayoutModel",
            "justify_items": null,
            "grid_row": null,
            "max_height": null,
            "align_content": null,
            "visibility": null,
            "align_self": null,
            "height": null,
            "min_height": null,
            "padding": null,
            "grid_auto_rows": null,
            "grid_gap": null,
            "max_width": null,
            "order": null,
            "_view_module_version": "1.2.0",
            "grid_template_areas": null,
            "object_position": null,
            "object_fit": null,
            "grid_auto_columns": null,
            "margin": null,
            "display": null,
            "left": null
          }
        },
        "e9b984284af54305a034b208a84cf6fc": {
          "model_module": "@jupyter-widgets/controls",
          "model_name": "HTMLModel",
          "model_module_version": "1.5.0",
          "state": {
            "_view_name": "HTMLView",
            "style": "IPY_MODEL_7efb8f58cbc741f1b871e76e1aa220f1",
            "_dom_classes": [],
            "description": "",
            "_model_name": "HTMLModel",
            "placeholder": "​",
            "_view_module": "@jupyter-widgets/controls",
            "_model_module_version": "1.5.0",
            "value": "100%",
            "_view_count": null,
            "_view_module_version": "1.5.0",
            "description_tooltip": null,
            "_model_module": "@jupyter-widgets/controls",
            "layout": "IPY_MODEL_bc194e4f22e54d10802d9600a9a61ee6"
          }
        },
        "e50d481bca40482abbeea052f70a280b": {
          "model_module": "@jupyter-widgets/controls",
          "model_name": "FloatProgressModel",
          "model_module_version": "1.5.0",
          "state": {
            "_view_name": "ProgressView",
            "style": "IPY_MODEL_978d4e2c5e744b16a4005e5dc78f5c04",
            "_dom_classes": [],
            "description": "",
            "_model_name": "FloatProgressModel",
            "bar_style": "success",
            "max": 300,
            "_view_module": "@jupyter-widgets/controls",
            "_model_module_version": "1.5.0",
            "value": 300,
            "_view_count": null,
            "_view_module_version": "1.5.0",
            "orientation": "horizontal",
            "min": 0,
            "description_tooltip": null,
            "_model_module": "@jupyter-widgets/controls",
            "layout": "IPY_MODEL_ee39b4cc03d1474faccae15197778c79"
          }
        },
        "f9583cc2bfef4cdbb60c02d9abc5923a": {
          "model_module": "@jupyter-widgets/controls",
          "model_name": "HTMLModel",
          "model_module_version": "1.5.0",
          "state": {
            "_view_name": "HTMLView",
            "style": "IPY_MODEL_34337cc39105486aa8870fa9c48de7c2",
            "_dom_classes": [],
            "description": "",
            "_model_name": "HTMLModel",
            "placeholder": "​",
            "_view_module": "@jupyter-widgets/controls",
            "_model_module_version": "1.5.0",
            "value": " 300/300 [00:43&lt;00:00,  6.72it/s]",
            "_view_count": null,
            "_view_module_version": "1.5.0",
            "description_tooltip": null,
            "_model_module": "@jupyter-widgets/controls",
            "layout": "IPY_MODEL_370a04851e8f42608dfb823865319b9d"
          }
        },
        "7efb8f58cbc741f1b871e76e1aa220f1": {
          "model_module": "@jupyter-widgets/controls",
          "model_name": "DescriptionStyleModel",
          "model_module_version": "1.5.0",
          "state": {
            "_view_name": "StyleView",
            "_model_name": "DescriptionStyleModel",
            "description_width": "",
            "_view_module": "@jupyter-widgets/base",
            "_model_module_version": "1.5.0",
            "_view_count": null,
            "_view_module_version": "1.2.0",
            "_model_module": "@jupyter-widgets/controls"
          }
        },
        "bc194e4f22e54d10802d9600a9a61ee6": {
          "model_module": "@jupyter-widgets/base",
          "model_name": "LayoutModel",
          "model_module_version": "1.2.0",
          "state": {
            "_view_name": "LayoutView",
            "grid_template_rows": null,
            "right": null,
            "justify_content": null,
            "_view_module": "@jupyter-widgets/base",
            "overflow": null,
            "_model_module_version": "1.2.0",
            "_view_count": null,
            "flex_flow": null,
            "width": null,
            "min_width": null,
            "border": null,
            "align_items": null,
            "bottom": null,
            "_model_module": "@jupyter-widgets/base",
            "top": null,
            "grid_column": null,
            "overflow_y": null,
            "overflow_x": null,
            "grid_auto_flow": null,
            "grid_area": null,
            "grid_template_columns": null,
            "flex": null,
            "_model_name": "LayoutModel",
            "justify_items": null,
            "grid_row": null,
            "max_height": null,
            "align_content": null,
            "visibility": null,
            "align_self": null,
            "height": null,
            "min_height": null,
            "padding": null,
            "grid_auto_rows": null,
            "grid_gap": null,
            "max_width": null,
            "order": null,
            "_view_module_version": "1.2.0",
            "grid_template_areas": null,
            "object_position": null,
            "object_fit": null,
            "grid_auto_columns": null,
            "margin": null,
            "display": null,
            "left": null
          }
        },
        "978d4e2c5e744b16a4005e5dc78f5c04": {
          "model_module": "@jupyter-widgets/controls",
          "model_name": "ProgressStyleModel",
          "model_module_version": "1.5.0",
          "state": {
            "_view_name": "StyleView",
            "_model_name": "ProgressStyleModel",
            "description_width": "",
            "_view_module": "@jupyter-widgets/base",
            "_model_module_version": "1.5.0",
            "_view_count": null,
            "_view_module_version": "1.2.0",
            "bar_color": null,
            "_model_module": "@jupyter-widgets/controls"
          }
        },
        "ee39b4cc03d1474faccae15197778c79": {
          "model_module": "@jupyter-widgets/base",
          "model_name": "LayoutModel",
          "model_module_version": "1.2.0",
          "state": {
            "_view_name": "LayoutView",
            "grid_template_rows": null,
            "right": null,
            "justify_content": null,
            "_view_module": "@jupyter-widgets/base",
            "overflow": null,
            "_model_module_version": "1.2.0",
            "_view_count": null,
            "flex_flow": null,
            "width": null,
            "min_width": null,
            "border": null,
            "align_items": null,
            "bottom": null,
            "_model_module": "@jupyter-widgets/base",
            "top": null,
            "grid_column": null,
            "overflow_y": null,
            "overflow_x": null,
            "grid_auto_flow": null,
            "grid_area": null,
            "grid_template_columns": null,
            "flex": null,
            "_model_name": "LayoutModel",
            "justify_items": null,
            "grid_row": null,
            "max_height": null,
            "align_content": null,
            "visibility": null,
            "align_self": null,
            "height": null,
            "min_height": null,
            "padding": null,
            "grid_auto_rows": null,
            "grid_gap": null,
            "max_width": null,
            "order": null,
            "_view_module_version": "1.2.0",
            "grid_template_areas": null,
            "object_position": null,
            "object_fit": null,
            "grid_auto_columns": null,
            "margin": null,
            "display": null,
            "left": null
          }
        },
        "34337cc39105486aa8870fa9c48de7c2": {
          "model_module": "@jupyter-widgets/controls",
          "model_name": "DescriptionStyleModel",
          "model_module_version": "1.5.0",
          "state": {
            "_view_name": "StyleView",
            "_model_name": "DescriptionStyleModel",
            "description_width": "",
            "_view_module": "@jupyter-widgets/base",
            "_model_module_version": "1.5.0",
            "_view_count": null,
            "_view_module_version": "1.2.0",
            "_model_module": "@jupyter-widgets/controls"
          }
        },
        "370a04851e8f42608dfb823865319b9d": {
          "model_module": "@jupyter-widgets/base",
          "model_name": "LayoutModel",
          "model_module_version": "1.2.0",
          "state": {
            "_view_name": "LayoutView",
            "grid_template_rows": null,
            "right": null,
            "justify_content": null,
            "_view_module": "@jupyter-widgets/base",
            "overflow": null,
            "_model_module_version": "1.2.0",
            "_view_count": null,
            "flex_flow": null,
            "width": null,
            "min_width": null,
            "border": null,
            "align_items": null,
            "bottom": null,
            "_model_module": "@jupyter-widgets/base",
            "top": null,
            "grid_column": null,
            "overflow_y": null,
            "overflow_x": null,
            "grid_auto_flow": null,
            "grid_area": null,
            "grid_template_columns": null,
            "flex": null,
            "_model_name": "LayoutModel",
            "justify_items": null,
            "grid_row": null,
            "max_height": null,
            "align_content": null,
            "visibility": null,
            "align_self": null,
            "height": null,
            "min_height": null,
            "padding": null,
            "grid_auto_rows": null,
            "grid_gap": null,
            "max_width": null,
            "order": null,
            "_view_module_version": "1.2.0",
            "grid_template_areas": null,
            "object_position": null,
            "object_fit": null,
            "grid_auto_columns": null,
            "margin": null,
            "display": null,
            "left": null
          }
        }
      }
    },
    "interpreter": {
      "hash": "344443636c3027c5042750c9c609acdda283a9c43681b128a8c1053e7ad2aa7d"
    }
  },
  "cells": [
    {
      "cell_type": "code",
      "execution_count": 2,
      "source": [
        "import numpy as np\n",
        "import pandas as pd\n",
        "from sklearn.preprocessing import StandardScaler\n",
        "from sklearn.linear_model import LogisticRegression\n",
        "from sklearn.metrics import precision_score, recall_score, precision_recall_curve,f1_score,confusion_matrix\n",
        "from sklearn.pipeline import Pipeline\n",
        "from sklearn.metrics import classification_report\n",
        "from sklearn.decomposition import PCA\n",
        "from sklearn.model_selection import GridSearchCV, RepeatedStratifiedKFold, cross_val_score\n",
        "from sklearn.linear_model import LogisticRegression\n",
        "from sklearn.ensemble import RandomForestClassifier\n",
        "from sklearn.calibration import CalibratedClassifierCV\n",
        "import matplotlib.pyplot as plt\n",
        "import seaborn as sns\n",
        "import matplotlib.ticker as ticker\n",
        "%matplotlib inline\n",
        "import warnings\n",
        "warnings.filterwarnings('ignore')\n",
        "import tqdm\n",
        "seed = 42"
      ],
      "outputs": [],
      "metadata": {
        "id": "_bqcKycf6brZ"
      }
    },
    {
      "cell_type": "code",
      "execution_count": 4,
      "source": [
        "train = pd.read_csv(\"data/train.csv\")\n",
        "test = pd.read_csv(\"data/test.csv\")"
      ],
      "outputs": [],
      "metadata": {
        "id": "2ixEnpZQ7k_K"
      }
    },
    {
      "cell_type": "markdown",
      "source": [
        "## Explorative Data Analysis"
      ],
      "metadata": {
        "id": "O-YkqetMEPwp"
      }
    },
    {
      "cell_type": "code",
      "execution_count": 5,
      "source": [
        "print(f\"Train data shape is:\",train.shape)\n",
        "print(f\"Test data shape is:\",test.shape)"
      ],
      "outputs": [
        {
          "output_type": "stream",
          "name": "stdout",
          "text": [
            "Train data shape is: (250, 302)\n",
            "Test data shape is: (19750, 301)\n"
          ]
        }
      ],
      "metadata": {
        "colab": {
          "base_uri": "https://localhost:8080/"
        },
        "id": "5YBWeraZESTo",
        "outputId": "b42ab328-87fa-41d4-c62e-1ff26fe6259e"
      }
    },
    {
      "cell_type": "markdown",
      "source": [
        "There are 250 data points in the train data with 302 columns while the test data has 19750 datapoints and 301 columns."
      ],
      "metadata": {
        "id": "xmAXfYkDEnET"
      }
    },
    {
      "cell_type": "code",
      "execution_count": 6,
      "source": [
        "train.describe()"
      ],
      "outputs": [
        {
          "output_type": "execute_result",
          "data": {
            "text/html": [
              "<div>\n",
              "<style scoped>\n",
              "    .dataframe tbody tr th:only-of-type {\n",
              "        vertical-align: middle;\n",
              "    }\n",
              "\n",
              "    .dataframe tbody tr th {\n",
              "        vertical-align: top;\n",
              "    }\n",
              "\n",
              "    .dataframe thead th {\n",
              "        text-align: right;\n",
              "    }\n",
              "</style>\n",
              "<table border=\"1\" class=\"dataframe\">\n",
              "  <thead>\n",
              "    <tr style=\"text-align: right;\">\n",
              "      <th></th>\n",
              "      <th>id</th>\n",
              "      <th>target</th>\n",
              "      <th>0</th>\n",
              "      <th>1</th>\n",
              "      <th>2</th>\n",
              "      <th>3</th>\n",
              "      <th>4</th>\n",
              "      <th>5</th>\n",
              "      <th>6</th>\n",
              "      <th>7</th>\n",
              "      <th>...</th>\n",
              "      <th>290</th>\n",
              "      <th>291</th>\n",
              "      <th>292</th>\n",
              "      <th>293</th>\n",
              "      <th>294</th>\n",
              "      <th>295</th>\n",
              "      <th>296</th>\n",
              "      <th>297</th>\n",
              "      <th>298</th>\n",
              "      <th>299</th>\n",
              "    </tr>\n",
              "  </thead>\n",
              "  <tbody>\n",
              "    <tr>\n",
              "      <th>count</th>\n",
              "      <td>250.000000</td>\n",
              "      <td>250.000000</td>\n",
              "      <td>250.000000</td>\n",
              "      <td>250.000000</td>\n",
              "      <td>250.000000</td>\n",
              "      <td>250.000000</td>\n",
              "      <td>250.000000</td>\n",
              "      <td>250.000000</td>\n",
              "      <td>250.000000</td>\n",
              "      <td>250.000000</td>\n",
              "      <td>...</td>\n",
              "      <td>250.000000</td>\n",
              "      <td>250.000000</td>\n",
              "      <td>250.000000</td>\n",
              "      <td>250.000000</td>\n",
              "      <td>250.000000</td>\n",
              "      <td>250.000000</td>\n",
              "      <td>250.000000</td>\n",
              "      <td>250.000000</td>\n",
              "      <td>250.000000</td>\n",
              "      <td>250.000000</td>\n",
              "    </tr>\n",
              "    <tr>\n",
              "      <th>mean</th>\n",
              "      <td>124.500000</td>\n",
              "      <td>0.640000</td>\n",
              "      <td>0.023292</td>\n",
              "      <td>-0.026872</td>\n",
              "      <td>0.167404</td>\n",
              "      <td>0.001904</td>\n",
              "      <td>0.001588</td>\n",
              "      <td>-0.007304</td>\n",
              "      <td>0.032052</td>\n",
              "      <td>0.078412</td>\n",
              "      <td>...</td>\n",
              "      <td>0.044652</td>\n",
              "      <td>0.126344</td>\n",
              "      <td>0.018436</td>\n",
              "      <td>-0.012092</td>\n",
              "      <td>-0.065720</td>\n",
              "      <td>-0.106112</td>\n",
              "      <td>0.046472</td>\n",
              "      <td>0.006452</td>\n",
              "      <td>0.009372</td>\n",
              "      <td>-0.128952</td>\n",
              "    </tr>\n",
              "    <tr>\n",
              "      <th>std</th>\n",
              "      <td>72.312977</td>\n",
              "      <td>0.480963</td>\n",
              "      <td>0.998354</td>\n",
              "      <td>1.009314</td>\n",
              "      <td>1.021709</td>\n",
              "      <td>1.011751</td>\n",
              "      <td>1.035411</td>\n",
              "      <td>0.955700</td>\n",
              "      <td>1.006657</td>\n",
              "      <td>0.939731</td>\n",
              "      <td>...</td>\n",
              "      <td>1.011416</td>\n",
              "      <td>0.972567</td>\n",
              "      <td>0.954229</td>\n",
              "      <td>0.960630</td>\n",
              "      <td>1.057414</td>\n",
              "      <td>1.038389</td>\n",
              "      <td>0.967661</td>\n",
              "      <td>0.998984</td>\n",
              "      <td>1.008099</td>\n",
              "      <td>0.971219</td>\n",
              "    </tr>\n",
              "    <tr>\n",
              "      <th>min</th>\n",
              "      <td>0.000000</td>\n",
              "      <td>0.000000</td>\n",
              "      <td>-2.319000</td>\n",
              "      <td>-2.931000</td>\n",
              "      <td>-2.477000</td>\n",
              "      <td>-2.359000</td>\n",
              "      <td>-2.566000</td>\n",
              "      <td>-2.845000</td>\n",
              "      <td>-2.976000</td>\n",
              "      <td>-3.444000</td>\n",
              "      <td>...</td>\n",
              "      <td>-2.804000</td>\n",
              "      <td>-2.443000</td>\n",
              "      <td>-2.757000</td>\n",
              "      <td>-2.466000</td>\n",
              "      <td>-3.287000</td>\n",
              "      <td>-3.072000</td>\n",
              "      <td>-2.634000</td>\n",
              "      <td>-2.776000</td>\n",
              "      <td>-3.211000</td>\n",
              "      <td>-3.500000</td>\n",
              "    </tr>\n",
              "    <tr>\n",
              "      <th>25%</th>\n",
              "      <td>62.250000</td>\n",
              "      <td>0.000000</td>\n",
              "      <td>-0.644750</td>\n",
              "      <td>-0.739750</td>\n",
              "      <td>-0.425250</td>\n",
              "      <td>-0.686500</td>\n",
              "      <td>-0.659000</td>\n",
              "      <td>-0.643750</td>\n",
              "      <td>-0.675000</td>\n",
              "      <td>-0.550750</td>\n",
              "      <td>...</td>\n",
              "      <td>-0.617000</td>\n",
              "      <td>-0.510500</td>\n",
              "      <td>-0.535750</td>\n",
              "      <td>-0.657000</td>\n",
              "      <td>-0.818500</td>\n",
              "      <td>-0.821000</td>\n",
              "      <td>-0.605500</td>\n",
              "      <td>-0.751250</td>\n",
              "      <td>-0.550000</td>\n",
              "      <td>-0.754250</td>\n",
              "    </tr>\n",
              "    <tr>\n",
              "      <th>50%</th>\n",
              "      <td>124.500000</td>\n",
              "      <td>1.000000</td>\n",
              "      <td>-0.015500</td>\n",
              "      <td>0.057000</td>\n",
              "      <td>0.184000</td>\n",
              "      <td>-0.016500</td>\n",
              "      <td>-0.023000</td>\n",
              "      <td>0.037500</td>\n",
              "      <td>0.060500</td>\n",
              "      <td>0.183500</td>\n",
              "      <td>...</td>\n",
              "      <td>0.067500</td>\n",
              "      <td>0.091000</td>\n",
              "      <td>0.057500</td>\n",
              "      <td>-0.021000</td>\n",
              "      <td>-0.009000</td>\n",
              "      <td>-0.079500</td>\n",
              "      <td>0.009500</td>\n",
              "      <td>0.005500</td>\n",
              "      <td>-0.009000</td>\n",
              "      <td>-0.132500</td>\n",
              "    </tr>\n",
              "    <tr>\n",
              "      <th>75%</th>\n",
              "      <td>186.750000</td>\n",
              "      <td>1.000000</td>\n",
              "      <td>0.677000</td>\n",
              "      <td>0.620750</td>\n",
              "      <td>0.805000</td>\n",
              "      <td>0.720000</td>\n",
              "      <td>0.735000</td>\n",
              "      <td>0.660500</td>\n",
              "      <td>0.783250</td>\n",
              "      <td>0.766250</td>\n",
              "      <td>...</td>\n",
              "      <td>0.797250</td>\n",
              "      <td>0.804250</td>\n",
              "      <td>0.631500</td>\n",
              "      <td>0.650250</td>\n",
              "      <td>0.739500</td>\n",
              "      <td>0.493000</td>\n",
              "      <td>0.683000</td>\n",
              "      <td>0.794250</td>\n",
              "      <td>0.654250</td>\n",
              "      <td>0.503250</td>\n",
              "    </tr>\n",
              "    <tr>\n",
              "      <th>max</th>\n",
              "      <td>249.000000</td>\n",
              "      <td>1.000000</td>\n",
              "      <td>2.567000</td>\n",
              "      <td>2.419000</td>\n",
              "      <td>3.392000</td>\n",
              "      <td>2.771000</td>\n",
              "      <td>2.901000</td>\n",
              "      <td>2.793000</td>\n",
              "      <td>2.546000</td>\n",
              "      <td>2.846000</td>\n",
              "      <td>...</td>\n",
              "      <td>2.865000</td>\n",
              "      <td>2.801000</td>\n",
              "      <td>2.736000</td>\n",
              "      <td>2.596000</td>\n",
              "      <td>2.226000</td>\n",
              "      <td>3.131000</td>\n",
              "      <td>3.236000</td>\n",
              "      <td>2.626000</td>\n",
              "      <td>3.530000</td>\n",
              "      <td>2.771000</td>\n",
              "    </tr>\n",
              "  </tbody>\n",
              "</table>\n",
              "<p>8 rows × 302 columns</p>\n",
              "</div>"
            ],
            "text/plain": [
              "               id      target           0           1           2           3  \\\n",
              "count  250.000000  250.000000  250.000000  250.000000  250.000000  250.000000   \n",
              "mean   124.500000    0.640000    0.023292   -0.026872    0.167404    0.001904   \n",
              "std     72.312977    0.480963    0.998354    1.009314    1.021709    1.011751   \n",
              "min      0.000000    0.000000   -2.319000   -2.931000   -2.477000   -2.359000   \n",
              "25%     62.250000    0.000000   -0.644750   -0.739750   -0.425250   -0.686500   \n",
              "50%    124.500000    1.000000   -0.015500    0.057000    0.184000   -0.016500   \n",
              "75%    186.750000    1.000000    0.677000    0.620750    0.805000    0.720000   \n",
              "max    249.000000    1.000000    2.567000    2.419000    3.392000    2.771000   \n",
              "\n",
              "                4           5           6           7  ...         290  \\\n",
              "count  250.000000  250.000000  250.000000  250.000000  ...  250.000000   \n",
              "mean     0.001588   -0.007304    0.032052    0.078412  ...    0.044652   \n",
              "std      1.035411    0.955700    1.006657    0.939731  ...    1.011416   \n",
              "min     -2.566000   -2.845000   -2.976000   -3.444000  ...   -2.804000   \n",
              "25%     -0.659000   -0.643750   -0.675000   -0.550750  ...   -0.617000   \n",
              "50%     -0.023000    0.037500    0.060500    0.183500  ...    0.067500   \n",
              "75%      0.735000    0.660500    0.783250    0.766250  ...    0.797250   \n",
              "max      2.901000    2.793000    2.546000    2.846000  ...    2.865000   \n",
              "\n",
              "              291         292         293         294         295         296  \\\n",
              "count  250.000000  250.000000  250.000000  250.000000  250.000000  250.000000   \n",
              "mean     0.126344    0.018436   -0.012092   -0.065720   -0.106112    0.046472   \n",
              "std      0.972567    0.954229    0.960630    1.057414    1.038389    0.967661   \n",
              "min     -2.443000   -2.757000   -2.466000   -3.287000   -3.072000   -2.634000   \n",
              "25%     -0.510500   -0.535750   -0.657000   -0.818500   -0.821000   -0.605500   \n",
              "50%      0.091000    0.057500   -0.021000   -0.009000   -0.079500    0.009500   \n",
              "75%      0.804250    0.631500    0.650250    0.739500    0.493000    0.683000   \n",
              "max      2.801000    2.736000    2.596000    2.226000    3.131000    3.236000   \n",
              "\n",
              "              297         298         299  \n",
              "count  250.000000  250.000000  250.000000  \n",
              "mean     0.006452    0.009372   -0.128952  \n",
              "std      0.998984    1.008099    0.971219  \n",
              "min     -2.776000   -3.211000   -3.500000  \n",
              "25%     -0.751250   -0.550000   -0.754250  \n",
              "50%      0.005500   -0.009000   -0.132500  \n",
              "75%      0.794250    0.654250    0.503250  \n",
              "max      2.626000    3.530000    2.771000  \n",
              "\n",
              "[8 rows x 302 columns]"
            ]
          },
          "metadata": {},
          "execution_count": 6
        }
      ],
      "metadata": {
        "colab": {
          "base_uri": "https://localhost:8080/",
          "height": 350
        },
        "id": "o3WgqciCE-Nh",
        "outputId": "3aa8be76-6efe-4fbb-9627-ccaea7539932"
      }
    },
    {
      "cell_type": "markdown",
      "source": [
        "Train data is within a sizeable range with no outlier in sight."
      ],
      "metadata": {}
    },
    {
      "cell_type": "code",
      "execution_count": 7,
      "source": [
        "train.info()"
      ],
      "outputs": [
        {
          "output_type": "stream",
          "name": "stdout",
          "text": [
            "<class 'pandas.core.frame.DataFrame'>\n",
            "RangeIndex: 250 entries, 0 to 249\n",
            "Columns: 302 entries, id to 299\n",
            "dtypes: float64(301), int64(1)\n",
            "memory usage: 590.0 KB\n"
          ]
        }
      ],
      "metadata": {
        "colab": {
          "base_uri": "https://localhost:8080/"
        },
        "id": "nEl3ujXjFFyl",
        "outputId": "547404cb-6bb1-4186-f13f-d3a1a91db6b9"
      }
    },
    {
      "cell_type": "markdown",
      "source": [
        "The train data are all numeric data, mostly float datatype (continuous) and only one integer."
      ],
      "metadata": {
        "id": "tZaCZlbeFIf0"
      }
    },
    {
      "cell_type": "code",
      "execution_count": 8,
      "source": [
        "sns.barplot(x=train['target'].value_counts().index, y=train['target'].value_counts().values)\n",
        "plt.title('Number of unique target values')\n",
        "plt.show()"
      ],
      "outputs": [
        {
          "output_type": "display_data",
          "data": {
            "image/png": "[encoded data removed]",
            "text/plain": [
              "<Figure size 432x288 with 1 Axes>"
            ]
          },
          "metadata": {
            "needs_background": "light"
          }
        }
      ],
      "metadata": {
        "colab": {
          "base_uri": "https://localhost:8080/",
          "height": 281
        },
        "id": "37FphNddHKBx",
        "outputId": "01a83aa1-6939-46ac-a8c6-5e58a3bf6d0e"
      }
    },
    {
      "cell_type": "code",
      "execution_count": 9,
      "source": [
        "total_num = train.shape[0]\n",
        "count_1, count_0 = train['target'].value_counts().values\n",
        "print('Fraction of dataset contain total number of 0s:',(count_0/total_num)*100,'%')\n",
        "print('Fraction of dataset contain total number of 1s:',(count_1/total_num)*100,'%')"
      ],
      "outputs": [
        {
          "output_type": "stream",
          "name": "stdout",
          "text": [
            "Fraction of dataset contain total number of 0s: 36.0 %\n",
            "Fraction of dataset contain total number of 1s: 64.0 %\n"
          ]
        }
      ],
      "metadata": {
        "colab": {
          "base_uri": "https://localhost:8080/"
        },
        "id": "Hsf3VS-ZNmtB",
        "outputId": "da61f6b5-61d7-4ce6-9712-677b7c0f9ec3"
      }
    },
    {
      "cell_type": "markdown",
      "source": [
        "Target value is not balanced. Accuracy is not a good metric for this problem.\n"
      ],
      "metadata": {
        "id": "mbGp5Pl-HNz1"
      }
    },
    {
      "cell_type": "code",
      "execution_count": 21,
      "source": [
        "#Reveal some pattern about those that failed and those that did not\n",
        "for col in ['10','20', '30','60', '120', '230']:\n",
        "    sns.distplot(train[train['target']==0][str(r[0])], label='target=0')\n",
        "    sns.distplot(train[train['target']==1][str(r[0])], label='target=1')\n",
        "    plt.legend(loc='upper right')\n",
        "    plt.xlabel(col)\n",
        "    plt.ylabel('Frequency')\n",
        "    plt.title('PDF of {}'.format(col))\n",
        "    plt.show()"
      ],
      "outputs": [
        {
          "output_type": "display_data",
          "data": {
            "image/png": "[encoded data removed]",
            "text/plain": [
              "<Figure size 432x288 with 1 Axes>"
            ]
          },
          "metadata": {
            "needs_background": "light"
          }
        },
        {
          "output_type": "display_data",
          "data": {
            "image/png": "[encoded data removed]",
            "text/plain": [
              "<Figure size 432x288 with 1 Axes>"
            ]
          },
          "metadata": {
            "needs_background": "light"
          }
        },
        {
          "output_type": "display_data",
          "data": {
            "image/png": "[encoded data removed]",
            "text/plain": [
              "<Figure size 432x288 with 1 Axes>"
            ]
          },
          "metadata": {
            "needs_background": "light"
          }
        },
        {
          "output_type": "display_data",
          "data": {
            "image/png": "[encoded data removed]",
            "text/plain": [
              "<Figure size 432x288 with 1 Axes>"
            ]
          },
          "metadata": {
            "needs_background": "light"
          }
        },
        {
          "output_type": "display_data",
          "data": {
            "image/png": "[encoded data removed]",
            "text/plain": [
              "<Figure size 432x288 with 1 Axes>"
            ]
          },
          "metadata": {
            "needs_background": "light"
          }
        },
        {
          "output_type": "display_data",
          "data": {
            "image/png": "[encoded data removed]",
            "text/plain": [
              "<Figure size 432x288 with 1 Axes>"
            ]
          },
          "metadata": {
            "needs_background": "light"
          }
        }
      ],
      "metadata": {}
    },
    {
      "cell_type": "markdown",
      "source": [
        "The target 1 and 0 overlaps, this will make it harder to get a good prediction on the data set."
      ],
      "metadata": {
        "id": "Q2i7WLhfNaCZ"
      }
    },
    {
      "cell_type": "markdown",
      "source": [
        "### Feature Engineering"
      ],
      "metadata": {
        "id": "6d8NP9G_QjOZ"
      }
    },
    {
      "cell_type": "code",
      "execution_count": 22,
      "source": [
        "def feature_eng(df, if_test=False):\n",
        "    \"\"\"\n",
        "    Parameter:\n",
        "    df: dataframe on which the feature engineering is to be performed\n",
        "    if_test: A boolean True if the dataframe is the test set or False if it is the train set \n",
        "    \n",
        "    Return:\n",
        "    Addition columns such as:\n",
        "    mean: mean of the entire columns,\n",
        "    std: standarad deviation of the entire column,\n",
        "    mean_sin: mean of the sine,\n",
        "    mean_cos: mean of the cosine,\n",
        "    mean_tan: mean of the tangent,\n",
        "    mean_sinh: mean of the sinh\n",
        "    mean_cosh: mean of the cosh,\n",
        "    mean_tanh: mean of the tanh,\n",
        "    mean_exp: mean of the exponential\n",
        "    mean_expm1: mean of exp(x)-1\n",
        "    mean_exp2: mean of 2**x\n",
        "    mean_x2: mean of x raise to power 2\n",
        "    mean_x3: mean of x raise to power 3\n",
        "    mean_x4: mean of x raise to power 4\n",
        "    \"\"\"\n",
        "\n",
        "    if if_test:\n",
        "      temp = df.drop(['id'], axis=1)\n",
        "    else:\n",
        "      temp = df.drop(['id','target'], axis=1)\n",
        "\n",
        "    df['mean'] = np.mean(temp, axis=1)\n",
        "    df['std'] = np.std(temp, axis=1)\n",
        "    sin_temp = np.sin(temp)\n",
        "    cos_temp = np.cos(temp)\n",
        "    tan_temp = np.tan(temp)\n",
        "    df['mean_sin'] = np.mean(sin_temp, axis=1)\n",
        "    df['mean_cos'] = np.mean(cos_temp, axis=1)\n",
        "    df['mean_tan'] = np.mean(tan_temp, axis=1)\n",
        "    sinh_temp = np.sinh(temp)\n",
        "    cosh_temp = np.cosh(temp)\n",
        "    tanh_temp = np.tanh(temp)\n",
        "    df['mean_sinh'] = np.mean(sinh_temp, axis=1)\n",
        "    df['mean_cosh'] = np.mean(cosh_temp, axis=1)\n",
        "    df['mean_tanh'] = np.mean(tanh_temp, axis=1)\n",
        "    exp_temp = np.exp(temp)\n",
        "    expm1_temp = np.expm1(temp)\n",
        "    exp2_temp = np.exp2(temp)\n",
        "    df['mean_exp'] = np.mean(exp_temp, axis=1)\n",
        "    df['mean_expm1'] = np.mean(expm1_temp, axis=1)\n",
        "    df['mean_exp2'] = np.mean(exp2_temp, axis=1)\n",
        "    df['mean_x2'] = np.mean(np.power(temp,2), axis=1)\n",
        "    df['mean_x3'] = np.mean(np.power(temp,3), axis=1)\n",
        "    df['mean_x4'] = np.mean(np.power(temp,4), axis=1)\n",
        "    return df"
      ],
      "outputs": [],
      "metadata": {
        "id": "fDoKRtMYQzsp"
      }
    },
    {
      "cell_type": "code",
      "execution_count": 24,
      "source": [
        "train_to_fe = train.copy()\n",
        "train_fe = feature_eng(train_to_fe,False)\n",
        "print(\"Feature engineering performed on train\")\n",
        "test_to_fe = test.copy()\n",
        "test_fe = feature_eng(test_to_fe, True)\n",
        "print(\"Feature engineering performed on test\")"
      ],
      "outputs": [
        {
          "output_type": "stream",
          "name": "stdout",
          "text": [
            "Feature engineering performed on train\n",
            "Feature engineering performed on test\n"
          ]
        }
      ],
      "metadata": {
        "colab": {
          "base_uri": "https://localhost:8080/",
          "height": 256
        },
        "id": "vm6o-N6nRT_A",
        "outputId": "00632c0a-3bab-422d-e64c-e0ccfa98b4de"
      }
    },
    {
      "cell_type": "markdown",
      "source": [
        "## Modeling"
      ],
      "metadata": {
        "id": "jGd973jnNzem"
      }
    },
    {
      "cell_type": "code",
      "execution_count": 27,
      "source": [
        "# Raw Data\n",
        "y = train['target']\n",
        "train_drop = train.drop(['id', 'target'], axis=1)\n",
        "test_drop = test.drop(['id'], axis=1)\n",
        "df_train = train_drop.copy()\n",
        "y_train = y.copy()\n",
        "print(df_train.shape)\n",
        "print(y_train.shape)"
      ],
      "outputs": [
        {
          "output_type": "stream",
          "name": "stdout",
          "text": [
            "(250, 300)\n",
            "(250,)\n"
          ]
        }
      ],
      "metadata": {
        "id": "aJ-4n8fa9jic"
      }
    },
    {
      "cell_type": "code",
      "execution_count": 28,
      "source": [
        "scale = StandardScaler()\n",
        "df_train_scaled = scale.fit_transform(df_train)\n",
        "print(\"Train data scaled\")\n",
        "test_scaled = scale.transform(test_drop)\n",
        "print(\"Test data scaled\")\n"
      ],
      "outputs": [
        {
          "output_type": "stream",
          "name": "stdout",
          "text": [
            "Train data scaled\n",
            "Test data scaled\n"
          ]
        }
      ],
      "metadata": {
        "colab": {
          "base_uri": "https://localhost:8080/",
          "height": 256
        },
        "id": "Bdy43HN4SfP_",
        "outputId": "655490c1-b07e-4f2d-8d19-a7bb897d91b5"
      }
    },
    {
      "cell_type": "markdown",
      "source": [
        "### Baseline Model - Logistic Regression"
      ],
      "metadata": {}
    },
    {
      "cell_type": "code",
      "execution_count": 31,
      "source": [
        "log_reg = LogisticRegression(random_state=seed)\n",
        "log_reg.fit(df_train_scaled,y_train)"
      ],
      "outputs": [
        {
          "output_type": "execute_result",
          "data": {
            "text/plain": [
              "LogisticRegression(random_state=42)"
            ]
          },
          "metadata": {},
          "execution_count": 31
        }
      ],
      "metadata": {}
    },
    {
      "cell_type": "markdown",
      "source": [
        "#### Standardization + ML Classification model without top features"
      ],
      "metadata": {
        "id": "aABp6YJnR8RZ"
      }
    },
    {
      "cell_type": "code",
      "execution_count": 19,
      "source": [
        "def hyperparameter_model(models, params):\n",
        "    '''\n",
        "    Hyperparameter tuning with StratifiedKFold follow by GridSearchCV follow by CalibratedClassifier\n",
        "    \n",
        "    Parameters:\n",
        "    models: Instance of the model\n",
        "    params: list of parameters with value fr tuning (dict)\n",
        "    \n",
        "    Return:\n",
        "    grid_clf: return gridsearch model    \n",
        "    '''\n",
        "    # Random shuffle after every iteration with stratify\n",
        "    str_cv = RepeatedStratifiedKFold(n_splits=10, n_repeats=5, random_state=42)\n",
        "    # Find the right hyperparameter for the model\n",
        "    grid_clf = GridSearchCV(models, params, cv=str_cv, return_train_score=True, scoring='roc_auc')\n",
        "    # Fit on train data\n",
        "    grid_clf.fit(df_train_scaled, y_train)\n",
        "    return grid_clf"
      ],
      "outputs": [],
      "metadata": {
        "id": "cETcETCkTz54"
      }
    },
    {
      "cell_type": "code",
      "execution_count": 20,
      "source": [
        "\n",
        "def forward_selection_model(model, top_n=10):\n",
        "    # List of top feature column variable\n",
        "    top_column = []\n",
        "    # To store cross val score\n",
        "    exist_score = 0\n",
        "    # Iterate over till number of top feature desired\n",
        "    for n in range(top_n):\n",
        "        print('for {} feature'.format(n+1))\n",
        "        flag = 0\n",
        "        # Iterate over all the feature in train data\n",
        "        for i in tqdm.tqdm_notebook(range(test_scaled.shape[1])):\n",
        "            # Finding for first top feature\n",
        "            if len(top_column) == 0:\n",
        "                str_cv = RepeatedStratifiedKFold(n_splits=10, n_repeats=5, random_state=42)\n",
        "                score = cross_val_score(model,df_train_scaled[:,[i]],y_train,cv=str_cv,scoring='roc_auc')\n",
        "                if exist_score < np.mean(score):\n",
        "                    top_current = i\n",
        "                    exist_score = np.mean(score)\n",
        "                    flag = 1\n",
        "            # Excluded apart from top column\n",
        "            elif i not in top_column:\n",
        "                str_cv = RepeatedStratifiedKFold(n_splits=10, n_repeats=5, random_state=42)\n",
        "                score = cross_val_score(model,df_train_scaled[:,np.concatenate((top_column,[i]))],y_train,cv=str_cv,scoring='roc_auc')\n",
        "                if exist_score < np.mean(score):\n",
        "                    top_current = i\n",
        "                    exist_score = np.mean(score)\n",
        "                    flag = 1\n",
        "        \n",
        "        if flag == 1:\n",
        "            print('Current top feature {} and score: {}'.format(top_current,exist_score))\n",
        "            print('Appended to top column')\n",
        "            top_column.append(top_current)\n",
        "            print(top_column)\n",
        "        else:\n",
        "            break\n",
        "    return top_column"
      ],
      "outputs": [],
      "metadata": {
        "id": "CRQd91qsUHoe"
      }
    },
    {
      "cell_type": "code",
      "execution_count": 21,
      "source": [
        "def plot_feature_importance(model, model_name, top_n = 10):\n",
        "    '''\n",
        "    Compute ROC curve and ROC area for each class\n",
        "    \n",
        "    Parameters:\n",
        "    try_true: train true label\n",
        "    try_pred: train predict probabilities value\n",
        "    cvy_true: cv true label\n",
        "    cvy_pred: cv predict probabilities value\n",
        "    n_classes: number of unique classes\n",
        "    \n",
        "    Return:\n",
        "    Plot of ROC Curve for train and cv data    \n",
        "    '''       \n",
        "    column_name = train.drop(['id','target'], axis=1).columns\n",
        "    if model_name == 'log_model':\n",
        "        feat_imp_coef = model.coef_.ravel()\n",
        "    else:\n",
        "        feat_imp_coef = model.feature_importances_\n",
        "    temp = pd.DataFrame(data=np.column_stack((column_name, feat_imp_coef)), columns=['col_name','coef'])\n",
        "    temp = temp.sort_values(by='coef', ascending=False).reset_index()\n",
        "    df = temp\n",
        "    temp = temp[:top_n]\n",
        "    plt.figure(figsize=(20,5))\n",
        "    sns.barplot(data=temp, y='coef', x='col_name', order=temp['col_name'])\n",
        "    plt.grid()\n",
        "    plt.show()\n",
        "    return df"
      ],
      "outputs": [],
      "metadata": {
        "id": "Sst6nag4WWhz"
      }
    },
    {
      "cell_type": "markdown",
      "source": [
        "### Logistic Regression\n",
        "\n",
        "\n",
        "> With all features\n",
        "\n"
      ],
      "metadata": {
        "id": "lH5x0lriUL72"
      }
    },
    {
      "cell_type": "code",
      "execution_count": 22,
      "source": [
        "# List of hyperparameter that has to be tuned\n",
        "params = {'penalty':['l1', 'l2', 'elasticnet'], 'C':[10**i for i in range(-4,5)], 'solver':['liblinear','sag']}\n",
        "# Instance of Logsitic Regression\n",
        "log_model = LogisticRegression(random_state=42, class_weight='balanced')\n",
        "# Call hyperparameter to get the best parameters of this model\n",
        "log_clf = hyperparameter_model(log_model, params)"
      ],
      "outputs": [],
      "metadata": {
        "id": "vHJV0r7-UOPF"
      }
    },
    {
      "cell_type": "code",
      "execution_count": 23,
      "source": [
        "print(log_clf.best_params_)"
      ],
      "outputs": [
        {
          "output_type": "stream",
          "name": "stdout",
          "text": [
            "{'C': 0.1, 'penalty': 'l1', 'solver': 'liblinear'}\n"
          ]
        }
      ],
      "metadata": {
        "colab": {
          "base_uri": "https://localhost:8080/"
        },
        "id": "GuA0jj9yUblW",
        "outputId": "74324fe2-b825-4672-b0f0-d74bddf67252"
      }
    },
    {
      "cell_type": "code",
      "execution_count": 24,
      "source": [
        "log_model = LogisticRegression(**log_clf.best_params_, class_weight='balanced', random_state=42)\n",
        "log_model.fit(df_train_scaled, y_train)"
      ],
      "outputs": [
        {
          "output_type": "execute_result",
          "data": {
            "text/plain": [
              "LogisticRegression(C=0.1, class_weight='balanced', dual=False,\n",
              "                   fit_intercept=True, intercept_scaling=1, l1_ratio=None,\n",
              "                   max_iter=100, multi_class='auto', n_jobs=None, penalty='l1',\n",
              "                   random_state=42, solver='liblinear', tol=0.0001, verbose=0,\n",
              "                   warm_start=False)"
            ]
          },
          "metadata": {},
          "execution_count": 24
        }
      ],
      "metadata": {
        "colab": {
          "base_uri": "https://localhost:8080/"
        },
        "id": "qKyXeMTbUd11",
        "outputId": "920fd173-7e12-4ee3-d859-39926e20fbfd"
      }
    },
    {
      "cell_type": "code",
      "execution_count": 25,
      "source": [
        "clf = CalibratedClassifierCV(log_clf, cv=3)\n",
        "clf.fit(df_train_scaled, y_train)"
      ],
      "outputs": [
        {
          "output_type": "execute_result",
          "data": {
            "text/plain": [
              "CalibratedClassifierCV(base_estimator=GridSearchCV(cv=RepeatedStratifiedKFold(n_repeats=5, n_splits=10, random_state=42),\n",
              "                                                   error_score=nan,\n",
              "                                                   estimator=LogisticRegression(C=1.0,\n",
              "                                                                                class_weight='balanced',\n",
              "                                                                                dual=False,\n",
              "                                                                                fit_intercept=True,\n",
              "                                                                                intercept_scaling=1,\n",
              "                                                                                l1_ratio=None,\n",
              "                                                                                max_iter=100,\n",
              "                                                                                multi_class='auto',\n",
              "                                                                                n_jobs=None,\n",
              "                                                                                penalty='l2',\n",
              "                                                                                random_state=42,\n",
              "                                                                                solver='lbfgs',\n",
              "                                                                                tol=0.0001,\n",
              "                                                                                verbose=0,\n",
              "                                                                                warm_start=False),\n",
              "                                                   iid='deprecated',\n",
              "                                                   n_jobs=None,\n",
              "                                                   param_grid={'C': [0.0001,\n",
              "                                                                     0.001,\n",
              "                                                                     0.01, 0.1,\n",
              "                                                                     1, 10, 100,\n",
              "                                                                     1000,\n",
              "                                                                     10000],\n",
              "                                                               'penalty': ['l1',\n",
              "                                                                           'l2',\n",
              "                                                                           'elasticnet'],\n",
              "                                                               'solver': ['liblinear',\n",
              "                                                                          'sag']},\n",
              "                                                   pre_dispatch='2*n_jobs',\n",
              "                                                   refit=True,\n",
              "                                                   return_train_score=True,\n",
              "                                                   scoring='roc_auc',\n",
              "                                                   verbose=0),\n",
              "                       cv=3, method='sigmoid')"
            ]
          },
          "metadata": {},
          "execution_count": 25
        }
      ],
      "metadata": {
        "colab": {
          "base_uri": "https://localhost:8080/"
        },
        "id": "Se1P5prgYnnF",
        "outputId": "a15afd3a-1177-4987-dcd5-494f026bea08"
      }
    },
    {
      "cell_type": "code",
      "execution_count": 26,
      "source": [
        "image = plt.imread('with_all_data.png')\n",
        "plt.figure(figsize=(18,5))\n",
        "plt.imshow(image)"
      ],
      "outputs": [
        {
          "output_type": "execute_result",
          "data": {
            "text/plain": [
              "<matplotlib.image.AxesImage at 0x7f64619a52d0>"
            ]
          },
          "metadata": {},
          "execution_count": 26
        },
        {
          "output_type": "display_data",
          "data": {
            "image/png": "[encoded data removed]",
            "text/plain": [
              "<Figure size 1296x360 with 1 Axes>"
            ]
          },
          "metadata": {
            "needs_background": "light"
          }
        }
      ],
      "metadata": {
        "colab": {
          "base_uri": "https://localhost:8080/",
          "height": 289
        },
        "id": "XZ97Px3RT0F5",
        "outputId": "915005ef-2a4e-4802-9733-a9a4300a5874"
      }
    },
    {
      "cell_type": "markdown",
      "source": [
        "score was 0.829 with all the data scaled for logistic regression."
      ],
      "metadata": {
        "id": "NlewGurZZ4Ey"
      }
    },
    {
      "cell_type": "markdown",
      "source": [
        "\n",
        "\n",
        "> With top 10 features\n",
        "\n"
      ],
      "metadata": {
        "id": "iAg7ptU3Zz90"
      }
    },
    {
      "cell_type": "code",
      "execution_count": 27,
      "source": [
        "df = plot_feature_importance(log_model, 'log_model', 20)"
      ],
      "outputs": [
        {
          "output_type": "display_data",
          "data": {
            "image/png": "[encoded data removed]",
            "text/plain": [
              "<Figure size 1440x360 with 1 Axes>"
            ]
          },
          "metadata": {
            "needs_background": "light"
          }
        }
      ],
      "metadata": {
        "colab": {
          "base_uri": "https://localhost:8080/",
          "height": 312
        },
        "id": "0J34pTVjVcot",
        "outputId": "c065e332-df06-4b88-f88d-3878cd15dbea"
      }
    },
    {
      "cell_type": "code",
      "execution_count": 28,
      "source": [
        "top_column = forward_selection_model(log_model)"
      ],
      "outputs": [
        {
          "output_type": "stream",
          "name": "stdout",
          "text": [
            "for 1 feature\n"
          ]
        },
        {
          "output_type": "display_data",
          "data": {
            "application/vnd.jupyter.widget-view+json": {
              "model_id": "694452d0c50549c68525d3a1d49dfbd2",
              "version_minor": 0,
              "version_major": 2
            },
            "text/plain": [
              "  0%|          | 0/300 [00:00<?, ?it/s]"
            ]
          },
          "metadata": {}
        },
        {
          "output_type": "stream",
          "name": "stdout",
          "text": [
            "Current top feature 33 and score: 0.7347222222222222\n",
            "Appended to top column\n",
            "[33]\n",
            "for 2 feature\n"
          ]
        },
        {
          "output_type": "display_data",
          "data": {
            "application/vnd.jupyter.widget-view+json": {
              "model_id": "40cdd7c2210d47808e241f4b546ef073",
              "version_minor": 0,
              "version_major": 2
            },
            "text/plain": [
              "  0%|          | 0/300 [00:00<?, ?it/s]"
            ]
          },
          "metadata": {}
        },
        {
          "output_type": "stream",
          "name": "stdout",
          "text": [
            "Current top feature 65 and score: 0.7876388888888887\n",
            "Appended to top column\n",
            "[33, 65]\n",
            "for 3 feature\n"
          ]
        },
        {
          "output_type": "display_data",
          "data": {
            "application/vnd.jupyter.widget-view+json": {
              "model_id": "82c8596f893542ffb8353f9420d4d793",
              "version_minor": 0,
              "version_major": 2
            },
            "text/plain": [
              "  0%|          | 0/300 [00:00<?, ?it/s]"
            ]
          },
          "metadata": {}
        },
        {
          "output_type": "stream",
          "name": "stdout",
          "text": [
            "Current top feature 217 and score: 0.8005555555555557\n",
            "Appended to top column\n",
            "[33, 65, 217]\n",
            "for 4 feature\n"
          ]
        },
        {
          "output_type": "display_data",
          "data": {
            "application/vnd.jupyter.widget-view+json": {
              "model_id": "c0ba9fd7c9ad40eda70548b5089cc1b3",
              "version_minor": 0,
              "version_major": 2
            },
            "text/plain": [
              "  0%|          | 0/300 [00:00<?, ?it/s]"
            ]
          },
          "metadata": {}
        },
        {
          "output_type": "stream",
          "name": "stdout",
          "text": [
            "Current top feature 117 and score: 0.8156944444444443\n",
            "Appended to top column\n",
            "[33, 65, 217, 117]\n",
            "for 5 feature\n"
          ]
        },
        {
          "output_type": "display_data",
          "data": {
            "application/vnd.jupyter.widget-view+json": {
              "model_id": "b611e021dc7a4e78ab5b85f3b950e5e4",
              "version_minor": 0,
              "version_major": 2
            },
            "text/plain": [
              "  0%|          | 0/300 [00:00<?, ?it/s]"
            ]
          },
          "metadata": {}
        },
        {
          "output_type": "stream",
          "name": "stdout",
          "text": [
            "Current top feature 91 and score: 0.8325\n",
            "Appended to top column\n",
            "[33, 65, 217, 117, 91]\n",
            "for 6 feature\n"
          ]
        },
        {
          "output_type": "display_data",
          "data": {
            "application/vnd.jupyter.widget-view+json": {
              "model_id": "f3f606d9f31849f4bc8473f2d00035b4",
              "version_minor": 0,
              "version_major": 2
            },
            "text/plain": [
              "  0%|          | 0/300 [00:00<?, ?it/s]"
            ]
          },
          "metadata": {}
        },
        {
          "output_type": "stream",
          "name": "stdout",
          "text": [
            "Current top feature 73 and score: 0.8423611111111111\n",
            "Appended to top column\n",
            "[33, 65, 217, 117, 91, 73]\n",
            "for 7 feature\n"
          ]
        },
        {
          "output_type": "display_data",
          "data": {
            "application/vnd.jupyter.widget-view+json": {
              "model_id": "649e2bda00c0434682cb62f8cfe585b0",
              "version_minor": 0,
              "version_major": 2
            },
            "text/plain": [
              "  0%|          | 0/300 [00:00<?, ?it/s]"
            ]
          },
          "metadata": {}
        },
        {
          "output_type": "stream",
          "name": "stdout",
          "text": [
            "Current top feature 16 and score: 0.8493055555555555\n",
            "Appended to top column\n",
            "[33, 65, 217, 117, 91, 73, 16]\n",
            "for 8 feature\n"
          ]
        },
        {
          "output_type": "display_data",
          "data": {
            "application/vnd.jupyter.widget-view+json": {
              "model_id": "e6d4d37a79254490b615bb6cbaff6b56",
              "version_minor": 0,
              "version_major": 2
            },
            "text/plain": [
              "  0%|          | 0/300 [00:00<?, ?it/s]"
            ]
          },
          "metadata": {}
        },
        {
          "output_type": "stream",
          "name": "stdout",
          "text": [
            "Current top feature 226 and score: 0.852777777777778\n",
            "Appended to top column\n",
            "[33, 65, 217, 117, 91, 73, 16, 226]\n",
            "for 9 feature\n"
          ]
        },
        {
          "output_type": "display_data",
          "data": {
            "application/vnd.jupyter.widget-view+json": {
              "model_id": "8dd4c6bf2f2a4cb98c51f8fbb5a0fc40",
              "version_minor": 0,
              "version_major": 2
            },
            "text/plain": [
              "  0%|          | 0/300 [00:00<?, ?it/s]"
            ]
          },
          "metadata": {}
        },
        {
          "output_type": "stream",
          "name": "stdout",
          "text": [
            "Current top feature 82 and score: 0.8559722222222222\n",
            "Appended to top column\n",
            "[33, 65, 217, 117, 91, 73, 16, 226, 82]\n",
            "for 10 feature\n"
          ]
        },
        {
          "output_type": "display_data",
          "data": {
            "application/vnd.jupyter.widget-view+json": {
              "model_id": "ba2dfd16bb7441beb27eeac7075538c9",
              "version_minor": 0,
              "version_major": 2
            },
            "text/plain": [
              "  0%|          | 0/300 [00:00<?, ?it/s]"
            ]
          },
          "metadata": {}
        },
        {
          "output_type": "stream",
          "name": "stdout",
          "text": [
            "Current top feature 90 and score: 0.8590277777777778\n",
            "Appended to top column\n",
            "[33, 65, 217, 117, 91, 73, 16, 226, 82, 90]\n"
          ]
        }
      ],
      "metadata": {
        "colab": {
          "base_uri": "https://localhost:8080/",
          "height": 1000,
          "referenced_widgets": [
            "694452d0c50549c68525d3a1d49dfbd2",
            "2cb61830bfeb4a109af3f4d94373af86",
            "4f48f80d8aa743679b6bb70578a0eb4f",
            "6ca4fb861be043e091a1c92cc4fa6316",
            "cee4757c9ba040768db1a22953be2837",
            "63136c170f0745ffb10f3c558947ab5a",
            "ccf80f3b92624c2ca9be9cbaba4d8498",
            "d19d6ee0328c4d5e9ea546c27ce3928f",
            "027d3b4d42df49d7a4aa15f46c029711",
            "99a6e351115a421c8679ef7edae7ae5c",
            "d8b4ebbe624e4c4dba5b1949c6d6ccf4",
            "40cdd7c2210d47808e241f4b546ef073",
            "1e4a238751954f89bd36a99379dac851",
            "f5f82552f20a4146a0ad8ad8cb0a5c6f",
            "3db493cec36f4325a99c8344c666b455",
            "f7190f6c760a4c3f9185719dd95e7bc4",
            "69809b0df45a48d7ac4e1d16a3ab47e3",
            "a3dac3d60c834231acb47699880150a7",
            "b033c90823f0465f9f2f6f65d89cb0af",
            "c0fc2c870b274d0fa678d102c64c490d",
            "77fff659680648ab87fec6deeecb0495",
            "847d555ccf10443dae6316b02df9cbb0",
            "82c8596f893542ffb8353f9420d4d793",
            "1f0ef70fc89b45f2ae8e5fb529c80140",
            "3e5594f193814e4a900bab3bbe564ef5",
            "8c8c6e66e15f41f68d5a67bc47236d81",
            "4be1c743530b4902ab6c1a398f636d41",
            "7b84689b29c448b8bb26a1096458171d",
            "e29010fb542e4ca2a4e60a3f6c243d8a",
            "932de69e20274edebdf355cf224e8e39",
            "46da2325a2d44078a6ed5d71dedfb9c2",
            "61f97116f4b34f77a1aa28f8d75a1fac",
            "c36115f79243439bb384873c3af24182",
            "c0ba9fd7c9ad40eda70548b5089cc1b3",
            "88c045b6bbac4610a533ac5446df91a1",
            "e26652d1ea8549dfb94dc78deddf0176",
            "85304af096cd4f2cb69d06053a23ec2f",
            "782d4495383e4ba79b40cae1c8a51ed3",
            "ab4e2f34d6774d738f19b1d66a19f023",
            "3ce8fc7c80bc4aaeb2271308bf954f28",
            "c6e235aec347436e9771fea360431cdb",
            "7cf547e2de82415484c34fa50e00dd24",
            "0b7e9b3f7cff444ebc20161030b6d17d",
            "6d1a41e2b0a947aea7115c9b56812c94",
            "b611e021dc7a4e78ab5b85f3b950e5e4",
            "afaaa5f4d9ea463b84a18b674ab9fdc6",
            "324b4a701894468a8d4b5c94f1965ca0",
            "4d69f8333ecc4f62b1ef234dbabd8a91",
            "dce2396221da48a49f03b44b82fce9b7",
            "08b73601ea0649b29f3f326abb09a06b",
            "6d6ae514c70a4e08a724e32e2da0ffca",
            "e5a4ba3e62204c97a473e7020ed24253",
            "fe8b1bc3d41c43c3a7f0283047b84180",
            "0840d2a7ea37462b967cba5436cb8e51",
            "6af2c1ad512243dd880d09d53abdf073",
            "f3f606d9f31849f4bc8473f2d00035b4",
            "e46a68fbf621429db46250c5c67e0553",
            "60f66e24241f496b856b9edc3d174e20",
            "a8182fc6acde44628df3aee4d9b5a7c0",
            "49ebabd1b3c34f79af0bee9a3942ea90",
            "4f2f92cff30a4c7ca8541c418589d7e6",
            "5921198c59b94335b75bafea7a8500e8",
            "5c37e26d6cdf4758ab5ef29bd77425e9",
            "ef21c2991a2046e0b15bc8dccfc700a7",
            "bfb019e466f44f1fabe1c2b13459f92b",
            "abce62cc78c04c708549687dcb86f8b0",
            "649e2bda00c0434682cb62f8cfe585b0",
            "02d6c51a1f5049a4a82a84ce0b5a8f9c",
            "1ecd57fb43ed4e6280a8bc72e9790bff",
            "0e51a3bed3844805b60df05e7e73e6bd",
            "6007eb7855174a7e9f92d5404cddc15c",
            "055b35fc9fd74c0788d5c934bdfe83e3",
            "04c1af726a9e41cf92b54ae7daa19054",
            "44c0076f90b34197b58b3b995404b72c",
            "559c26acc1874f4e98cbc25b2ee9c9d2",
            "3864c8e4f8d64282ae83bb0fb562f60d",
            "630dc9944d9e483fba5999c51066abd9",
            "e6d4d37a79254490b615bb6cbaff6b56",
            "0c0a5c71099340f0b1289a1a4b0c25fe",
            "2cce9f85a1de4cd3bc22a70452eddc67",
            "2ae244b6189b4badab0408ae8d4a5d0f",
            "776cf44e2b22482daade2d824295ab0f",
            "109c0015645749b49d579f5375c28a63",
            "18737adcc33549f2bfc5f51e0d4e200e",
            "df32fe1d93d844f5a9a0b71ab3aab3d9",
            "2be4341514f8490a8e9d8dcd924b3444",
            "67bd391eca624dd4a05218eebc497370",
            "0229c7d6981345e9a79f266dd76f4440",
            "8dd4c6bf2f2a4cb98c51f8fbb5a0fc40",
            "f2a88af2f915404098212b2edd757a89",
            "8efd3310929d4db4ac426c3a1149c4cd",
            "bd143af6d92444a69d3d3f5187a3a2e7",
            "0018c373a1474f1bbb6dab44fd89f078",
            "acb56b4966f14861b6f571eb7d745a59",
            "e1e770db500a405f84405eeea0bbc122",
            "02ec65c1caa54acdbbedea2772c597ed",
            "d93f959a9cda4a16a176da39026e24e7",
            "37eeab23374e4b54ab081118535e0984",
            "fe7bcae15739447c9666e5bfa1a99e35",
            "ba2dfd16bb7441beb27eeac7075538c9",
            "20a53e82c99449e085c873f4141f940b",
            "e9b984284af54305a034b208a84cf6fc",
            "e50d481bca40482abbeea052f70a280b",
            "f9583cc2bfef4cdbb60c02d9abc5923a",
            "7efb8f58cbc741f1b871e76e1aa220f1",
            "bc194e4f22e54d10802d9600a9a61ee6",
            "978d4e2c5e744b16a4005e5dc78f5c04",
            "ee39b4cc03d1474faccae15197778c79",
            "34337cc39105486aa8870fa9c48de7c2",
            "370a04851e8f42608dfb823865319b9d"
          ]
        },
        "id": "JUXQPpLxVpmi",
        "outputId": "e4b0fa41-53a2-4c41-a141-f70561437cae"
      }
    },
    {
      "cell_type": "code",
      "execution_count": 29,
      "source": [
        "# Store the top column name into set\n",
        "log_top10_feat = set(top_column)\n",
        "# Fit Logistic Regression on top features only\n",
        "log_model_top = LogisticRegression(**log_clf.best_params_, class_weight='balanced', random_state=42)\n",
        "log_model_top.fit(df_train_scaled[:,top_column],y_train)\n",
        "# Calibrate it in top features only\n",
        "clf = CalibratedClassifierCV(log_model_top, cv=3)\n",
        "clf.fit(df_train_scaled[:,top_column],y_train)\n",
        "# Predict the probabilities of 1\n",
        "test_pred = clf.predict_proba(test_scaled[:,top_column])[:,1]"
      ],
      "outputs": [],
      "metadata": {
        "id": "514VhAJsV6a-"
      }
    },
    {
      "cell_type": "code",
      "execution_count": 30,
      "source": [
        "image = plt.imread('with_top_10.png')\n",
        "plt.figure(figsize=(18,5))\n",
        "plt.imshow(image)"
      ],
      "outputs": [
        {
          "output_type": "execute_result",
          "data": {
            "text/plain": [
              "<matplotlib.image.AxesImage at 0x7f6456f9cbd0>"
            ]
          },
          "metadata": {},
          "execution_count": 30
        },
        {
          "output_type": "display_data",
          "data": {
            "image/png": "[encoded data removed]",
            "text/plain": [
              "<Figure size 1296x360 with 1 Axes>"
            ]
          },
          "metadata": {
            "needs_background": "light"
          }
        }
      ],
      "metadata": {
        "colab": {
          "base_uri": "https://localhost:8080/",
          "height": 195
        },
        "id": "f-KcRTY8ZZpS",
        "outputId": "316a09a3-e8f2-4a4c-9d3c-40be80e48110"
      }
    },
    {
      "cell_type": "markdown",
      "source": [
        "### Logistic Regression with Feature Engineered Data\n",
        "\n",
        "\n",
        "> With All Data\n",
        "\n"
      ],
      "metadata": {
        "id": "xK16lYR4ZmHu"
      }
    },
    {
      "cell_type": "code",
      "execution_count": 31,
      "source": [
        "y_train_fe = train_fe['target']\n",
        "train_drop_fe = train_fe.drop(['id', 'target'], axis=1)\n",
        "test_drop_fe = test_fe.drop(['id'], axis=1)"
      ],
      "outputs": [],
      "metadata": {
        "id": "cLVo9a3wZlex"
      }
    },
    {
      "cell_type": "code",
      "execution_count": 32,
      "source": [
        "train_fe_scaled = scale.fit_transform(train_drop_fe)\n",
        "test_fe_scaled = scale.transform(test_drop_fe)"
      ],
      "outputs": [],
      "metadata": {
        "id": "3bXB2clgbXFR"
      }
    },
    {
      "cell_type": "code",
      "execution_count": 33,
      "source": [
        "log_model_fe = LogisticRegression(**log_clf.best_params_, class_weight='balanced', random_state=42)\n",
        "log_model_fe.fit(train_fe_scaled, y_train_fe)"
      ],
      "outputs": [
        {
          "output_type": "execute_result",
          "data": {
            "text/plain": [
              "LogisticRegression(C=0.1, class_weight='balanced', dual=False,\n",
              "                   fit_intercept=True, intercept_scaling=1, l1_ratio=None,\n",
              "                   max_iter=100, multi_class='auto', n_jobs=None, penalty='l1',\n",
              "                   random_state=42, solver='liblinear', tol=0.0001, verbose=0,\n",
              "                   warm_start=False)"
            ]
          },
          "metadata": {},
          "execution_count": 33
        }
      ],
      "metadata": {
        "colab": {
          "base_uri": "https://localhost:8080/"
        },
        "id": "fWiBIToCbnpt",
        "outputId": "d7375aae-eec1-4475-ddb7-50a08b240386"
      }
    },
    {
      "cell_type": "code",
      "execution_count": null,
      "source": [
        "clf_fe = CalibratedClassifierCV(log_clf, cv=3)\n",
        "clf_fe.fit(train_fe_scaled, y_train_fe)"
      ],
      "outputs": [],
      "metadata": {
        "id": "bVxSMFwZb8th"
      }
    },
    {
      "cell_type": "code",
      "execution_count": null,
      "source": [
        "image = plt.imread('eng_feat_all_data.png')\n",
        "plt.figure(figsize=(18,5))\n",
        "plt.imshow(image)"
      ],
      "outputs": [],
      "metadata": {
        "id": "5i_H5Rkfdt_Z"
      }
    },
    {
      "cell_type": "markdown",
      "source": [
        "\n",
        "\n",
        "> With top 10 feats\n",
        "\n"
      ],
      "metadata": {
        "id": "SiKUeaCBd7fL"
      }
    },
    {
      "cell_type": "code",
      "execution_count": null,
      "source": [
        "top_column_fe = forward_selection_model(log_model_fe)"
      ],
      "outputs": [],
      "metadata": {
        "id": "pEBexO7Qd5R8"
      }
    },
    {
      "cell_type": "code",
      "execution_count": null,
      "source": [
        "# Store the top column name into set\n",
        "log_top10_feat_fe = set(top_column_fe)\n",
        "# Fit Logistic Regression on top features only\n",
        "log_model_top_fe = LogisticRegression(**log_clf.best_params_, class_weight='balanced', random_state=42)\n",
        "log_model_top_fe.fit(df_train_scaled[:,top_column_fe],y_train_fe)\n",
        "# Calibrate it in top features only\n",
        "clf_fe = CalibratedClassifierCV(log_model_top_fe, cv=3)\n",
        "clf_fe.fit(train_fe_scaled[:,top_column],y_train_fe)\n",
        "# Predict the probabilities of 1\n",
        "test_pred_fe = clf_fe.predict_proba(test_fe_scaled[:,top_column])[:,1]"
      ],
      "outputs": [],
      "metadata": {
        "id": "rhOPcMCShTAg"
      }
    },
    {
      "cell_type": "code",
      "execution_count": null,
      "source": [
        "image = plt.imread('eng_feat_top10.png')\n",
        "plt.figure(figsize=(18,5))\n",
        "plt.imshow(image)"
      ],
      "outputs": [],
      "metadata": {
        "id": "t0fXqUzsipn6"
      }
    },
    {
      "cell_type": "markdown",
      "source": [
        "### RandomForest \n",
        "\n",
        "\n",
        "> with all data\n",
        "\n"
      ],
      "metadata": {
        "id": "KWXvC6pdjM2W"
      }
    },
    {
      "cell_type": "code",
      "execution_count": 39,
      "source": [
        "# List of hyperparameter that has t be tuned\n",
        "params = {'n_estimators':[10,20,30,40,50,100,200,300,400],'max_depth':[2,3,5,7]}\n",
        "# Instance of randomforest\n",
        "rf_model = RandomForestClassifier(random_state=42)\n",
        "# Perform GridSearchCV to find best parameters\n",
        "rf_clf = hyperparameter_model(rf_model, params)"
      ],
      "outputs": [],
      "metadata": {
        "id": "455T5SW9jVpU"
      }
    },
    {
      "cell_type": "code",
      "execution_count": 40,
      "source": [
        "print(rf_clf.best_params_)"
      ],
      "outputs": [
        {
          "output_type": "stream",
          "name": "stdout",
          "text": [
            "{'max_depth': 2, 'n_estimators': 300}\n"
          ]
        }
      ],
      "metadata": {
        "colab": {
          "base_uri": "https://localhost:8080/"
        },
        "id": "Fu1HwPi0jmg1",
        "outputId": "38384a5d-309c-4fc8-a9a4-7a3f0235c19f"
      }
    },
    {
      "cell_type": "code",
      "execution_count": 41,
      "source": [
        "rf_clf = RandomForestClassifier(**rf_clf.best_params_,random_state=42)\n",
        "rf_clf.fit(df_train_scaled, y_train)\n",
        "clf = CalibratedClassifierCV(rf_clf, cv=3)\n",
        "clf.fit(df_train_scaled, y_train)"
      ],
      "outputs": [
        {
          "output_type": "execute_result",
          "data": {
            "text/plain": [
              "CalibratedClassifierCV(base_estimator=RandomForestClassifier(bootstrap=True,\n",
              "                                                             ccp_alpha=0.0,\n",
              "                                                             class_weight=None,\n",
              "                                                             criterion='gini',\n",
              "                                                             max_depth=2,\n",
              "                                                             max_features='auto',\n",
              "                                                             max_leaf_nodes=None,\n",
              "                                                             max_samples=None,\n",
              "                                                             min_impurity_decrease=0.0,\n",
              "                                                             min_impurity_split=None,\n",
              "                                                             min_samples_leaf=1,\n",
              "                                                             min_samples_split=2,\n",
              "                                                             min_weight_fraction_leaf=0.0,\n",
              "                                                             n_estimators=300,\n",
              "                                                             n_jobs=None,\n",
              "                                                             oob_score=False,\n",
              "                                                             random_state=42,\n",
              "                                                             verbose=0,\n",
              "                                                             warm_start=False),\n",
              "                       cv=3, method='sigmoid')"
            ]
          },
          "metadata": {},
          "execution_count": 41
        }
      ],
      "metadata": {
        "colab": {
          "base_uri": "https://localhost:8080/"
        },
        "id": "CIPgRJhDjqdk",
        "outputId": "656a3a1f-1a33-4f76-d767-a37a3688b0e9"
      }
    },
    {
      "cell_type": "code",
      "execution_count": 42,
      "source": [
        "df = plot_feature_importance(rf_clf, 'rf',20)"
      ],
      "outputs": [
        {
          "output_type": "display_data",
          "data": {
            "image/png": "[encoded data removed]",
            "text/plain": [
              "<Figure size 1440x360 with 1 Axes>"
            ]
          },
          "metadata": {
            "needs_background": "light"
          }
        }
      ],
      "metadata": {
        "colab": {
          "base_uri": "https://localhost:8080/",
          "height": 312
        },
        "id": "lQFnFtvBlyqH",
        "outputId": "999fd9d7-1897-4d68-f60d-6b69d14dcea0"
      }
    },
    {
      "cell_type": "code",
      "execution_count": 43,
      "source": [
        "image = plt.imread('rf_with all_data.png')\n",
        "plt.figure(figsize=(18,5))\n",
        "plt.imshow(image)"
      ],
      "outputs": [
        {
          "output_type": "execute_result",
          "data": {
            "text/plain": [
              "<matplotlib.image.AxesImage at 0x7f645649fc90>"
            ]
          },
          "metadata": {},
          "execution_count": 43
        },
        {
          "output_type": "display_data",
          "data": {
            "image/png": "[encoded data removed]",
            "text/plain": [
              "<Figure size 1296x360 with 1 Axes>"
            ]
          },
          "metadata": {
            "needs_background": "light"
          }
        }
      ],
      "metadata": {
        "colab": {
          "base_uri": "https://localhost:8080/",
          "height": 220
        },
        "id": "y_tVcTmBmcSR",
        "outputId": "640c8781-724f-4864-f383-646166981d09"
      }
    },
    {
      "cell_type": "markdown",
      "source": [
        "### XGBoost Classifier"
      ],
      "metadata": {
        "id": "giBVJuqhnwHm"
      }
    },
    {
      "cell_type": "code",
      "execution_count": null,
      "source": [
        "from xgboost import XGBClassifier\n",
        "\n",
        "# Xgboost (See Docs: https://xgboost.readthedocs.io/en/latest/python/python_api.html)\n",
        "\n",
        "# List of hyperparameter that has to be tuned\n",
        "params = {'max_depth':[2,3,5,7], 'n_estimators':[10,20,50,100,200,300,400]}\n",
        "# Instance of XGBoost Model\n",
        "xgb_model = XGBClassifier(scale_pos_weight=0.5)\n",
        "# Call hyperparameter to find the best parameters\n",
        "xgb_clf = hyperparameter_model(xgb_model, params)"
      ],
      "outputs": [],
      "metadata": {
        "id": "wvj0SmY5nzUz"
      }
    },
    {
      "cell_type": "code",
      "execution_count": null,
      "source": [
        "print(xgb_clf.best_params_)\n",
        "print('cv Score',xgb_clf.score(df_train_scaled, y_train))"
      ],
      "outputs": [],
      "metadata": {
        "id": "tXSoPRs3n_UT"
      }
    },
    {
      "cell_type": "code",
      "execution_count": null,
      "source": [
        "rf_clf = RandomForestClassifier(**rf_clf.best_params_,random_state=42)\n",
        "rf_clf.fit(df_train_scaled, y_train)\n",
        "clf = CalibratedClassifierCV(rf_clf, cv=3)\n",
        "clf.fit(df_train_scaled, y_train)"
      ],
      "outputs": [],
      "metadata": {
        "id": "sHbsjMFQoSa8"
      }
    },
    {
      "cell_type": "code",
      "execution_count": null,
      "source": [
        "# # Create a submssion format to make submission in Kaggle\n",
        "# temp_id = test['id']\n",
        "# log_csv = clf.predict_proba(test_scaled)[:,1]\n",
        "# log_df = pd.DataFrame(np.column_stack((temp_id,log_csv)), columns=['id','target'])\n",
        "# log_df['id'] = log_df['id'].astype('int32')\n",
        "# log_df.to_csv('submission_25.csv', index=False)"
      ],
      "outputs": [],
      "metadata": {
        "id": "toy8HG6KmAPk"
      }
    },
    {
      "cell_type": "code",
      "execution_count": null,
      "source": [
        "# # Create a submssion format to make submission in Kaggle\n",
        "# temp_id = test['id']\n",
        "# log_csv = clf.predict_proba(test_scaled)[:,1]\n",
        "# log_df = pd.DataFrame(np.column_stack((temp_id,log_csv)), columns=['id','target'])\n",
        "# log_df['id'] = log_df['id'].astype('int32')\n",
        "# log_df.to_csv('submission_23.csv', index=False)"
      ],
      "outputs": [],
      "metadata": {
        "id": "87c7QdqaXrCL"
      }
    },
    {
      "cell_type": "code",
      "execution_count": null,
      "source": [
        "# temp_id = test['id']\n",
        "# df_tspred = pd.DataFrame(np.column_stack((temp_id,test_pred_fe)), columns=['id','target'])\n",
        "# df_tspred['id'] = df_tspred['id'].astype('int32')\n",
        "# df_tspred.to_csv('submission_24.csv', index=False)"
      ],
      "outputs": [],
      "metadata": {
        "id": "KrR5toKdY0Hc"
      }
    }
  ]
}